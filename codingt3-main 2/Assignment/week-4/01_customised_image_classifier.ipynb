{
 "cells": [
  {
   "cell_type": "markdown",
   "id": "192ed1fb-aeb4-4cf7-8798-3099e147dd25",
   "metadata": {},
   "source": [
    "# Customised Image Classifier\n",
    "\n",
    "This is a continuation from last week's image classifier `02a_image_classifier_pytorch.ipynb`. \n",
    "\n",
    "Last week, we trained a Convolutional Neural Network (CNN) for image classification, but we didn't pay much attention to how it was built. However, it's important to know about some basic NN building blocks in PyTorch so that you can tweak it for different situations (e.g. adjust input sizes, model sizes, improve performance etc.)\n",
    "\n",
    "So this week, we're going to cover **how to build a neural network using PyTorch neural network building blocks**. \n",
    "\n",
    "We'll be using the same training workflow as last week, but focus on how the CNN model is created.\n",
    "\n"
   ]
  },
  {
   "cell_type": "markdown",
   "id": "7a083617-3886-4b5b-b7cb-bf0396afa64a",
   "metadata": {},
   "source": [
    "Before we start, let's config the device PyTorch is using"
   ]
  },
  {
   "cell_type": "code",
   "execution_count": 1,
   "id": "6257b28e-ed21-4f08-b7cc-0992ca16654d",
   "metadata": {},
   "outputs": [
    {
     "name": "stdout",
     "output_type": "stream",
     "text": [
      "Using device: mps\n"
     ]
    }
   ],
   "source": [
    "import torch\n",
    "\n",
    "device = \"cpu\"\n",
    "\n",
    "if torch.cuda.is_available():\n",
    "    device = \"cuda\"\n",
    "\n",
    "elif torch.backends.mps.is_available():\n",
    "    device = \"mps\"\n",
    "\n",
    "print(f'Using device: {device}')"
   ]
  },
  {
   "cell_type": "markdown",
   "id": "719f7585-5854-494a-b9aa-cc1fc7116d91",
   "metadata": {},
   "source": [
    "## **Step 1** - Prepare Dataset\n",
    "\n",
    "We'll use the [Flower Recognition](https://aiplanet.com/challenges/61/data-sprint-25-flower-recognition-61/data) dataset for flower classification. \n",
    "\n",
    "<u>Please download the dataset from [here](https://drive.google.com/file/d/1v0or9w-z4x0M0SHNFkp9UVZGsJ1G6e_t/view?usp=sharing) and unzip it to the `week-4` folder.</u>\n",
    "\n",
    "\n",
    "![img](./src/flower_samples.png) \n",
    "\n"
   ]
  },
  {
   "cell_type": "code",
   "execution_count": 2,
   "id": "e0a93428-a5c6-4867-87d6-6350443185bf",
   "metadata": {},
   "outputs": [],
   "source": [
    "# we're going to crop all images to this resolution\n",
    "image_resolution = 64\n",
    "\n",
    "# how many colour channels?\n",
    "# 3 for RGB, 1 for greyscale\n",
    "colour_channels = 3\n",
    "\n",
    "# make sure the path to your image folder is correct\n",
    "folder_path = './flowers/train'"
   ]
  },
  {
   "cell_type": "markdown",
   "id": "c705bee3-b4b8-4cd6-a8b4-bb70719e936e",
   "metadata": {},
   "source": [
    "#### **1.1** - Pre-process images \n",
    "\n",
    "Pre-process (i.e. crop, resize, normalise) the images in our dataset.\n",
    "\n",
    "Use [PyTorch's Transforming functions](https://pytorch.org/vision/0.17/transforms.html) to define the pre-processes pipeline on our images. \n"
   ]
  },
  {
   "cell_type": "code",
   "execution_count": 3,
   "id": "dffa0769-dc82-4425-8871-755f4d4d623b",
   "metadata": {},
   "outputs": [],
   "source": [
    "from torchvision.transforms.v2 import Compose, ToImage, ToDtype, Grayscale, Resize, RandomCrop, Normalize\n",
    "\n",
    "# this transformation function will help us pre-process images during the training (on-the-fly)\n",
    "transformation = Compose([   \n",
    "    # convert an image to tensor\n",
    "    ToImage(),\n",
    "    ToDtype(torch.float32, scale=True),\n",
    "    \n",
    "    # resize and crop\n",
    "    Resize(image_resolution),\n",
    "    RandomCrop(image_resolution),\n",
    "    \n",
    "    # normalise pixel values to be between -1 and 1 \n",
    "    Normalize((0.5, 0.5, 0.5), (0.5, 0.5, 0.5)),\n",
    "    \n",
    "    # if you're training on greyscale images, convert them to greyscale\n",
    "    # otherwise just do nothing\n",
    "    Grayscale() if colour_channels == 1 else torch.nn.Identity()\n",
    "    \n",
    "])"
   ]
  },
  {
   "cell_type": "markdown",
   "id": "7597b7d3-05b2-405f-95af-5dfcb3db655d",
   "metadata": {},
   "source": [
    "#### **1.2** - Create dataset loaders  \n",
    "\n",
    "Data loaders loads images into batches according to the pre-processes pipeline we have defined previously."
   ]
  },
  {
   "cell_type": "code",
   "execution_count": 4,
   "id": "6d07881b-cd2e-4ee9-be01-dc56dfc7471f",
   "metadata": {},
   "outputs": [],
   "source": [
    "from sklearn.model_selection import train_test_split\n",
    "import matplotlib.pyplot as plt\n",
    "\n",
    "from torchvision.datasets import ImageFolder\n",
    "from torch.utils.data import DataLoader\n",
    "\n",
    "import torch\n",
    "\n",
    "from IPython.display import display\n",
    "\n",
    "from torchvision.transforms.functional import to_pil_image\n",
    "from torchvision.utils import make_grid"
   ]
  },
  {
   "cell_type": "code",
   "execution_count": 5,
   "id": "cda59b77-0d33-4151-85e3-84ccf79f8ae0",
   "metadata": {},
   "outputs": [],
   "source": [
    "# how many images are going to be put into the testing set, \n",
    "# e.g. 0.2 means 20% percent of images\n",
    "test_size = 0.2 \n",
    "\n",
    "# how many images will be used in one epoch, \n",
    "# this usually depend on your model / types of data / CPU or GPU's capability\n",
    "batch_size = 16"
   ]
  },
  {
   "cell_type": "markdown",
   "id": "1ad8e7ac-152a-4107-8e9e-84772fd2f7b1",
   "metadata": {},
   "source": [
    "There is a lot of discussion about how different batch sizes can affect training results, e.g. [here](https://www.cs.princeton.edu/~smalladi/blog/2024/01/22/SDEs-ScalingRules/). But as a rule of thumb: larger batch sizes can make your gradient less noisy and therefore safer for larger learning rates, but this is always subjected to different models and data, especially when training generative models. So a good way to decide batch sizes is to follow literatures or similar works."
   ]
  },
  {
   "cell_type": "code",
   "execution_count": 6,
   "id": "d9064271-cf70-44c7-9487-0cbeac5d4c83",
   "metadata": {},
   "outputs": [],
   "source": [
    "# Instatiate train and test datasets\n",
    "train_dataset = ImageFolder(folder_path, transform=transformation)\n",
    "test_dataset = ImageFolder(folder_path, transform=transformation)\n",
    "\n",
    "# Get length of dataset and indicies\n",
    "num_train = len(train_dataset)\n",
    "indices = list(range(num_train))\n",
    "\n",
    "# Get train / test split for data points\n",
    "train_indices, test_indices = train_test_split(indices, test_size=test_size, random_state=42)\n",
    "\n",
    "# Override dataset classes to only be samples for each split\n",
    "train_sub_dataset = torch.utils.data.Subset(train_dataset, train_indices)\n",
    "test_sub_dataset = torch.utils.data.Subset(test_dataset, test_indices)\n",
    "\n",
    "# Create training and tresing data loaders\n",
    "train_loader = DataLoader(train_sub_dataset, batch_size=batch_size, num_workers=4, multiprocessing_context=\"forkserver\" if device=='mps' else None, shuffle=True)\n",
    "test_loader = DataLoader(test_sub_dataset, batch_size=batch_size, num_workers=4, multiprocessing_context=\"forkserver\" if device=='mps' else None, shuffle=True)\n"
   ]
  },
  {
   "cell_type": "code",
   "execution_count": 7,
   "id": "9fa1b42f-3690-4ce3-a4da-49f225ab6b0f",
   "metadata": {},
   "outputs": [
    {
     "name": "stdout",
     "output_type": "stream",
     "text": [
      "2196 training images loaded\n",
      "550 testing images loaded\n",
      "classes: ['daisy', 'dandelion', 'rose', 'sunflower', 'tulip']\n",
      "data shape: torch.Size([16, 3, 64, 64])\n",
      "labels shape: torch.Size([16])\n"
     ]
    }
   ],
   "source": [
    "# sort out the names for each classes (according to the folder names)\n",
    "class_names = train_dataset.classes\n",
    "\n",
    "print(f'{len(train_indices)} training images loaded')\n",
    "print(f'{len(test_indices)} testing images loaded')\n",
    "print(f'classes: {class_names}')\n",
    "\n",
    "data, labels = next(iter(train_loader))\n",
    "\n",
    "print(f'data shape: {data.shape}')\n",
    "print(f'labels shape: {labels.shape}')"
   ]
  },
  {
   "cell_type": "markdown",
   "id": "8e60261d-24d6-44a8-ab7e-981194ff1324",
   "metadata": {},
   "source": [
    "## **Step 2** - create a convolutional neural network model   \n",
    "\n",
    "Last week we skipped over the details of the neural network and used a script to load an empty one. But this time we'll use PyTorch's neural network building blocks to build it. "
   ]
  },
  {
   "cell_type": "code",
   "execution_count": 8,
   "id": "74431393-4454-4ab8-8a8b-83d05a63f76e",
   "metadata": {},
   "outputs": [],
   "source": [
    "from torch import nn, flatten\n",
    "from torch.nn.functional import relu"
   ]
  },
  {
   "cell_type": "markdown",
   "id": "da352968-af5d-4789-8a22-c20976c259e2",
   "metadata": {},
   "source": [
    "### Convolution Kernel   \n",
    "\n",
    "Use a 2D matrix of “kernels” to sweep across the image, check PyTorch documentation on [nn.Conv2d](https://pytorch.org/docs/stable/generated/torch.nn.Conv2d.html)\n",
    "\n",
    "`nn.Conv2d(in_channel, out_channel, kernel_size=3, padding=1)`  \n",
    "\n",
    "Using `kernel_size = 3` and `padding = 1` will allow us to keep the width and height of the tensor"
   ]
  },
  {
   "cell_type": "code",
   "execution_count": 9,
   "id": "73f029a3-fbc3-4f88-b3e2-0e8bb7b479d6",
   "metadata": {},
   "outputs": [
    {
     "name": "stdout",
     "output_type": "stream",
     "text": [
      "input shape torch.Size([16, 3, 64, 64])\n",
      "output shape torch.Size([16, 32, 64, 64])\n"
     ]
    }
   ],
   "source": [
    "conv2d_layer = nn.Conv2d(3, 32, kernel_size=3, padding=1)\n",
    "\n",
    "print(f'input shape {data.shape}')\n",
    "x = conv2d_layer(data)\n",
    "\n",
    "print(f'output shape {x.shape}')"
   ]
  },
  {
   "cell_type": "markdown",
   "id": "1c3ccf72-892a-4b22-bf2c-918cf1e3785a",
   "metadata": {},
   "source": [
    "### Pooling Kernel   \n",
    "\n",
    "Shrink down the size of a tensor, check PyTorch documentation on [nn.MaxPool2d](https://pytorch.org/docs/stable/generated/torch.nn.MaxPool2d.html)\n",
    "\n",
    "`nn.MaxPool2d(kernel_size=2, stride=2)`  \n",
    "\n",
    "Using `kernel_size = 2` and `stride = 2` will allow us to reduce widths and heights of the inputs by half "
   ]
  },
  {
   "cell_type": "code",
   "execution_count": 10,
   "id": "9dbce489-4794-4b45-928a-8572763b484e",
   "metadata": {},
   "outputs": [
    {
     "name": "stdout",
     "output_type": "stream",
     "text": [
      "input shape torch.Size([16, 32, 64, 64])\n",
      "output shape torch.Size([16, 32, 32, 32])\n"
     ]
    }
   ],
   "source": [
    "maxpooling_layer = nn.MaxPool2d(2, 2)\n",
    "\n",
    "print(f'input shape {x.shape}')\n",
    "x = maxpooling_layer(x)\n",
    "\n",
    "print(f'output shape {x.shape}')"
   ]
  },
  {
   "cell_type": "markdown",
   "id": "01597c6b-53d0-419c-a72a-1f3e1daf41e0",
   "metadata": {},
   "source": [
    "### Activation Layer    \n",
    "\n",
    "Each convolutional layer will be followed by an activation function, they allows us to approximate complex data patterns (see [extended reading](https://machinelearningmastery.com/using-activation-functions-in-neural-networks/)).  \n",
    "There are a lot of different types of activation functions, check PyTorch [Non-linear Activations](https://pytorch.org/docs/stable/nn.html#non-linear-activations-weighted-sum-nonlinearity). We'll be using `ReLU`.\n",
    "\n",
    "`nn.ReLU()`  \n",
    "\n",
    "Activation function won't affect the size of the tensor"
   ]
  },
  {
   "cell_type": "code",
   "execution_count": 11,
   "id": "efc74ab6-2f7b-4a66-8aad-9b3c6d3add5a",
   "metadata": {},
   "outputs": [
    {
     "name": "stdout",
     "output_type": "stream",
     "text": [
      "input shape torch.Size([16, 32, 32, 32])\n",
      "output shape torch.Size([16, 32, 32, 32])\n"
     ]
    }
   ],
   "source": [
    "activation_layer = nn.ReLU()\n",
    "\n",
    "print(f'input shape {x.shape}')\n",
    "x = activation_layer(x)\n",
    "\n",
    "print(f'output shape {x.shape}')"
   ]
  },
  {
   "cell_type": "markdown",
   "id": "921cdbc7-8bce-4e7d-a3d7-b321027cac64",
   "metadata": {},
   "source": [
    "### Put Them Together"
   ]
  },
  {
   "cell_type": "code",
   "execution_count": 12,
   "id": "51a4f998-fb2f-48e1-8495-36c40b7e0946",
   "metadata": {},
   "outputs": [],
   "source": [
    "class ConvNeuralNetwork(nn.Module):\n",
    "    def __init__(self):\n",
    "        # Call the constructor of the base class nn.module\n",
    "        super().__init__()\n",
    "\n",
    "        modules = []\n",
    "        \n",
    "        # each convolutional layer will takes a batch of 3D tensor \n",
    "        # Outputs a batch of 3D tensor (outputs of all convolutional filters)\n",
    "        # for the first conv layer, the input channel is 3 because that's the number of colour channels\n",
    "        modules.append(nn.Conv2d(3, 8, kernel_size=3, padding=1))\n",
    "        \n",
    "        # Each conv layer will be followed by a pooling layer and the relu activation function\n",
    "        # the pooling layer reduce widths and heights of the inputs by half \n",
    "        # so the tensor shape change from [8, 64, 64] -> [8, 32, 32] after it\n",
    "        modules.append(nn.MaxPool2d(2, 2))\n",
    "        modules.append(nn.ReLU())\n",
    "        \n",
    "        # the second conv layer\n",
    "        # we increase the number of channels, but the widths and heights remain the same\n",
    "        # so the tensor shape change from [8, 32, 32] -> [16, 32, 32] after it\n",
    "        modules.append(nn.Conv2d(8, 16, kernel_size=3, padding=1))\n",
    "        \n",
    "        # the second pooling and relu layer\n",
    "        # the tensor shape change from [16, 32, 32] -> [16, 16, 16] after it\n",
    "        modules.append(nn.MaxPool2d(2, 2))\n",
    "        modules.append(nn.ReLU())\n",
    "        \n",
    "        # the tensor shape change from [16, 16, 16] -> [32, 8, 8] after it\n",
    "        modules.append(nn.Conv2d(16, 32, kernel_size=3, padding=1))\n",
    "        modules.append(nn.MaxPool2d(2, 2))\n",
    "        modules.append(nn.ReLU()) \n",
    "\n",
    "        # the tensor shape change from [32, 8, 8] -> [32, 4, 4] after it\n",
    "        modules.append(nn.Conv2d(32, 32, kernel_size=3, padding=1))\n",
    "        modules.append(nn.MaxPool2d(2, 2))\n",
    "        modules.append(nn.ReLU()) \n",
    "        \n",
    "        # We append these modules to a Modules List object so that later we can iterate through it\n",
    "        self.convolutions = nn.ModuleList(modules)\n",
    "        \n",
    "        # First fully connected layer\n",
    "        # Its input size depend on the convolutional layer's output resolution and the number of channels\n",
    "        self.fc1 = nn.Linear(32 * 4 * 4, 32)\n",
    "        \n",
    "        # Last fully connected layer\n",
    "        # Outputs a vector of class predictions,\n",
    "        # make sure the output channel is the number of classes you have\n",
    "        self.fc2 = nn.Linear(32, 5)\n",
    "        \n",
    "\n",
    "    # Definition of the forward pass\n",
    "    # Here the classifier takes an image as input and predicts an vector of probabilites\n",
    "    def forward(self, x):\n",
    "\n",
    "        # Pass input through all layers we have added\n",
    "        for layer in self.convolutions:\n",
    "            x = layer(x)\n",
    "            \n",
    "        # Flatten the output of the last convolutional layer into a 1-dimensional vector\n",
    "        x = flatten(x, 1) \n",
    "        \n",
    "        # Pass through the first and the second fully connected layer with relu activation function\n",
    "        x = self.fc1(x)\n",
    "        x = relu(x)\n",
    "        x = self.fc2(x)\n",
    "        \n",
    "        # Output a vector of class probabilities\n",
    "        return x"
   ]
  },
  {
   "cell_type": "code",
   "execution_count": 13,
   "id": "b796cb1e-d300-43a5-88ae-cd2167b8008f",
   "metadata": {},
   "outputs": [
    {
     "data": {
      "text/plain": [
       "ConvNeuralNetwork(\n",
       "  (convolutions): ModuleList(\n",
       "    (0): Conv2d(3, 8, kernel_size=(3, 3), stride=(1, 1), padding=(1, 1))\n",
       "    (1): MaxPool2d(kernel_size=2, stride=2, padding=0, dilation=1, ceil_mode=False)\n",
       "    (2): ReLU()\n",
       "    (3): Conv2d(8, 16, kernel_size=(3, 3), stride=(1, 1), padding=(1, 1))\n",
       "    (4): MaxPool2d(kernel_size=2, stride=2, padding=0, dilation=1, ceil_mode=False)\n",
       "    (5): ReLU()\n",
       "    (6): Conv2d(16, 32, kernel_size=(3, 3), stride=(1, 1), padding=(1, 1))\n",
       "    (7): MaxPool2d(kernel_size=2, stride=2, padding=0, dilation=1, ceil_mode=False)\n",
       "    (8): ReLU()\n",
       "    (9): Conv2d(32, 32, kernel_size=(3, 3), stride=(1, 1), padding=(1, 1))\n",
       "    (10): MaxPool2d(kernel_size=2, stride=2, padding=0, dilation=1, ceil_mode=False)\n",
       "    (11): ReLU()\n",
       "  )\n",
       "  (fc1): Linear(in_features=512, out_features=32, bias=True)\n",
       "  (fc2): Linear(in_features=32, out_features=5, bias=True)\n",
       ")"
      ]
     },
     "execution_count": 13,
     "metadata": {},
     "output_type": "execute_result"
    }
   ],
   "source": [
    "model = ConvNeuralNetwork()\n",
    "model.to(device)"
   ]
  },
  {
   "cell_type": "markdown",
   "id": "2321d247-0090-40c6-a510-bf20322d40a6",
   "metadata": {},
   "source": [
    "## **Step 3** - Train the model\n",
    "\n",
    "The following sections will be exactly the same with last week's image classifier.  \n",
    "If you need a refresh, check the `02a_image_classifier_pytorch.ipynb` notebook in week3.\n"
   ]
  },
  {
   "cell_type": "markdown",
   "id": "b9d827f2-9106-489d-92da-147fbbd5d279",
   "metadata": {},
   "source": [
    "\n",
    "#### Define optimiser and loss function"
   ]
  },
  {
   "cell_type": "code",
   "execution_count": 14,
   "id": "dd23048f-221b-462f-955b-3d51485a9c69",
   "metadata": {},
   "outputs": [],
   "source": [
    "# Cross entropy loss\n",
    "loss_function = torch.nn.CrossEntropyLoss().to(device)\n",
    "\n",
    "# Adam optimizer\n",
    "optimizer = torch.optim.Adam(model.parameters())"
   ]
  },
  {
   "cell_type": "markdown",
   "id": "df1c6094-9e6a-4d2c-927e-6dcd09f68d36",
   "metadata": {},
   "source": [
    "#### Define training/ testing loop  "
   ]
  },
  {
   "cell_type": "code",
   "execution_count": 15,
   "id": "2ad26605-d776-427d-bb75-53f0a67ce584",
   "metadata": {
    "scrolled": true,
    "tags": []
   },
   "outputs": [
    {
     "name": "stdout",
     "output_type": "stream",
     "text": [
      "Epoch 0\n",
      "  -> Step 0001, train loss: 1.6234\n",
      "  -> Step 0051, train loss: 1.6118\n",
      "  -> Step 0101, train loss: 1.3879\n",
      "Epoch 1, train loss: 1.540, test loss: 1.360\n",
      "  -> Step 0001, train loss: 1.0762\n",
      "  -> Step 0051, train loss: 1.2665\n",
      "  -> Step 0101, train loss: 1.1653\n",
      "Epoch 2, train loss: 1.205, test loss: 1.149\n",
      "  -> Step 0001, train loss: 1.0425\n",
      "  -> Step 0051, train loss: 1.8477\n",
      "  -> Step 0101, train loss: 0.8680\n",
      "Epoch 3, train loss: 1.074, test loss: 0.984\n",
      "  -> Step 0001, train loss: 1.2541\n",
      "  -> Step 0051, train loss: 0.8192\n",
      "  -> Step 0101, train loss: 1.1613\n",
      "Epoch 4, train loss: 1.006, test loss: 0.953\n",
      "  -> Step 0001, train loss: 0.8101\n",
      "  -> Step 0051, train loss: 0.8839\n",
      "  -> Step 0101, train loss: 1.0794\n",
      "Epoch 5, train loss: 0.964, test loss: 1.015\n",
      "  -> Step 0001, train loss: 0.9880\n",
      "  -> Step 0051, train loss: 0.7189\n",
      "  -> Step 0101, train loss: 0.5188\n",
      "Epoch 6, train loss: 0.930, test loss: 0.881\n",
      "  -> Step 0001, train loss: 0.6339\n",
      "  -> Step 0051, train loss: 0.5735\n",
      "  -> Step 0101, train loss: 1.0186\n",
      "Epoch 7, train loss: 0.882, test loss: 0.853\n",
      "  -> Step 0001, train loss: 0.9901\n",
      "  -> Step 0051, train loss: 0.5507\n",
      "  -> Step 0101, train loss: 0.5355\n",
      "Epoch 8, train loss: 0.877, test loss: 0.885\n",
      "  -> Step 0001, train loss: 0.7709\n",
      "  -> Step 0051, train loss: 0.8369\n",
      "  -> Step 0101, train loss: 1.0467\n",
      "Epoch 9, train loss: 0.846, test loss: 0.826\n",
      "  -> Step 0001, train loss: 0.9586\n",
      "  -> Step 0051, train loss: 0.6721\n",
      "  -> Step 0101, train loss: 0.7571\n",
      "Epoch 10, train loss: 0.808, test loss: 0.791\n",
      "training finished, model saved to 'model_final.pt'\n"
     ]
    }
   ],
   "source": [
    "# we can save the model regularly\n",
    "save_every_n_epoch = 5\n",
    "\n",
    "# total number of epochs we aim for\n",
    "num_epochs = 10\n",
    "\n",
    "# keep track of the losses, we can plot them in the end\n",
    "train_losses = []\n",
    "test_losses = []\n",
    "\n",
    "print('Epoch 0')\n",
    "\n",
    "for epoch in range(num_epochs): \n",
    "\n",
    "    #---- Training loop -----------------------------\n",
    "    train_loss = 0.0\n",
    "    model.train()\n",
    "    \n",
    "    for i, data in enumerate(train_loader, 0):\n",
    "        # Load: The training data loader loads a batch of training data and their true class labels.\n",
    "        inputs, true_labels = data\n",
    "        inputs = inputs.to(device)\n",
    "        true_labels = true_labels.to(device)\n",
    "        \n",
    "        # Pass: Forward pass the training data to our model, and get the predicted classes.\n",
    "        pred_labels = model(inputs)\n",
    "        \n",
    "        # Loss: The loss function compares the predicted classes to the true classes, and calculates the error.\n",
    "        loss = loss_function(pred_labels, true_labels)\n",
    "        train_loss += loss.item()\n",
    "        \n",
    "        # Optimise: The optimizer slightly optimises our model based on the error.\n",
    "        loss.backward()\n",
    "        optimizer.step()\n",
    "        optimizer.zero_grad()\n",
    "        \n",
    "        if i % 50 == 0:\n",
    "            print(f'  -> Step {i + 1:04}, train loss: {loss.item():.4f}')\n",
    "    \n",
    "    \n",
    "    #---- Testing loop -----------------------------\n",
    "    test_loss = 0.0\n",
    "    model.eval()\n",
    "    \n",
    "    with torch.inference_mode():\n",
    "        test_loss = 0.0\n",
    "        for i, data in enumerate(test_loader, 0):\n",
    "            # Load: The testing data loader loads a batch of testing data and their true class labels.\n",
    "            inputs, true_labels = data\n",
    "            inputs = inputs.to(device)\n",
    "            true_labels = true_labels.to(device)\n",
    "            \n",
    "            # Pass: Forward pass the testing data to our model, and get the predicted classes.\n",
    "            pred_labels = model(inputs)\n",
    "            \n",
    "            # Loss: The loss function compares the predicted classes to the true classes, and calculates the error.\n",
    "            loss = loss_function(pred_labels, true_labels)\n",
    "            test_loss += loss.item()\n",
    "    \n",
    "    \n",
    "    #---- Report some numbers -----------------------------\n",
    "    \n",
    "    # Calculate the cumulative losses in this epoch\n",
    "    train_loss = train_loss / len(train_loader)\n",
    "    test_loss = test_loss / len(test_loader)\n",
    "    \n",
    "    # Added cumulative losses to lists for later display\n",
    "    train_losses.append(train_loss)\n",
    "    test_losses.append(test_loss)\n",
    "    \n",
    "    print(f'Epoch {epoch + 1}, train loss: {train_loss:.3f}, test loss: {test_loss:.3f}')\n",
    "    \n",
    "    # save our model every n epoch\n",
    "    if (epoch+1) % save_every_n_epoch==0:\n",
    "        torch.save(model.state_dict(), f'model_epoch{epoch:04}.pt')\n",
    "        \n",
    "# save the model at the end of the training process\n",
    "torch.save(model.state_dict(), f'model_final.pt')\n",
    "\n",
    "print(\"training finished, model saved to 'model_final.pt'\")"
   ]
  },
  {
   "cell_type": "markdown",
   "id": "7019eccc-0d26-4f1c-a88a-87d325cf7e10",
   "metadata": {},
   "source": [
    "#### Plot Training Process\n"
   ]
  },
  {
   "cell_type": "code",
   "execution_count": 16,
   "id": "917370e6-d946-4204-9a0e-cfc65f8c7e2e",
   "metadata": {},
   "outputs": [],
   "source": [
    "import matplotlib.pyplot as plt\n",
    "import numpy as np"
   ]
  },
  {
   "cell_type": "code",
   "execution_count": 17,
   "id": "b8f172f2-56c9-4539-95e7-115a46679c54",
   "metadata": {},
   "outputs": [
    {
     "data": {
      "image/png": "[encoded data removed]",
      "text/plain": [
       "<Figure size 500x300 with 1 Axes>"
      ]
     },
     "metadata": {},
     "output_type": "display_data"
    }
   ],
   "source": [
    "plt.figure(figsize=(5,3))\n",
    "plt.plot(train_losses, label='training loss')\n",
    "plt.plot(test_losses, label = 'validation loss')\n",
    "plt.xticks(np.arange(len(train_losses)))\n",
    "plt.xlabel('Epoch')\n",
    "plt.ylabel('Loss')\n",
    "plt.legend(loc='upper right')\n",
    "plt.show()"
   ]
  },
  {
   "cell_type": "markdown",
   "id": "94aec91f-7cb2-47b2-8037-dc96f45f5e79",
   "metadata": {},
   "source": [
    "## **Step 4** - Test and evaluate the training results   \n",
    "\n",
    "#### Load model  \n",
    "First, let's load our trained model. And set the model to 'evaluation' mode `.eval()` (check [torch.nn.Module.eval()](https://pytorch.org/docs/stable/generated/torch.nn.Module.html#torch.nn.Module.eval))"
   ]
  },
  {
   "cell_type": "code",
   "execution_count": 18,
   "id": "3370865e-e43f-499a-8d21-2ee9116ff0e1",
   "metadata": {},
   "outputs": [
    {
     "data": {
      "text/plain": [
       "ConvNeuralNetwork(\n",
       "  (convolutions): ModuleList(\n",
       "    (0): Conv2d(3, 8, kernel_size=(3, 3), stride=(1, 1), padding=(1, 1))\n",
       "    (1): MaxPool2d(kernel_size=2, stride=2, padding=0, dilation=1, ceil_mode=False)\n",
       "    (2): ReLU()\n",
       "    (3): Conv2d(8, 16, kernel_size=(3, 3), stride=(1, 1), padding=(1, 1))\n",
       "    (4): MaxPool2d(kernel_size=2, stride=2, padding=0, dilation=1, ceil_mode=False)\n",
       "    (5): ReLU()\n",
       "    (6): Conv2d(16, 32, kernel_size=(3, 3), stride=(1, 1), padding=(1, 1))\n",
       "    (7): MaxPool2d(kernel_size=2, stride=2, padding=0, dilation=1, ceil_mode=False)\n",
       "    (8): ReLU()\n",
       "    (9): Conv2d(32, 32, kernel_size=(3, 3), stride=(1, 1), padding=(1, 1))\n",
       "    (10): MaxPool2d(kernel_size=2, stride=2, padding=0, dilation=1, ceil_mode=False)\n",
       "    (11): ReLU()\n",
       "  )\n",
       "  (fc1): Linear(in_features=512, out_features=32, bias=True)\n",
       "  (fc2): Linear(in_features=32, out_features=5, bias=True)\n",
       ")"
      ]
     },
     "execution_count": 18,
     "metadata": {},
     "output_type": "execute_result"
    }
   ],
   "source": [
    "# make sure the parameters are the same as when the model is created\n",
    "eval_model = ConvNeuralNetwork()\n",
    "\n",
    "# load the saved model, make sure the path is correct\n",
    "eval_model.load_state_dict(torch.load('model_final.pt'))\n",
    "\n",
    "eval_model.to(device)\n",
    "eval_model.eval() "
   ]
  },
  {
   "cell_type": "markdown",
   "id": "01c37508-4e76-4e52-a8d7-70f00caab58a",
   "metadata": {},
   "source": [
    "#### Load some test data \n",
    "\n",
    "Data in the testing set has never been exposed to the model during the training process, so they are good to test if our model works fine on \"new\" data. Why? Because sometimes the model begins to **overfit** to the training set and is not able to \"generalise\" to data that are not in the training set."
   ]
  },
  {
   "cell_type": "code",
   "execution_count": 19,
   "id": "9577247c-0e90-41e9-8804-5e8b59b1d2f5",
   "metadata": {},
   "outputs": [],
   "source": [
    "test_data, test_labels = next(iter(test_loader))\n",
    "\n",
    "true_label = class_names[test_labels[0]]"
   ]
  },
  {
   "cell_type": "code",
   "execution_count": 20,
   "id": "3300eacb-787e-4a40-a131-9086d6465c61",
   "metadata": {},
   "outputs": [
    {
     "data": {
      "image/png": "[encoded data removed]",
      "text/plain": [
       "<Figure size 300x300 with 1 Axes>"
      ]
     },
     "metadata": {},
     "output_type": "display_data"
    }
   ],
   "source": [
    "plt.figure(figsize=(3,3))\n",
    "plt.title(f\"True Label: {true_label}\")\n",
    "plt.imshow(test_data[0].add(1).div(2).permute((1,2,0)).cpu().detach().numpy())\n",
    "\n",
    "plt.show()"
   ]
  },
  {
   "cell_type": "markdown",
   "id": "554c3c1f-f696-4429-8836-7fd03f3cd192",
   "metadata": {},
   "source": [
    "Run it through a forward pass"
   ]
  },
  {
   "cell_type": "code",
   "execution_count": 21,
   "id": "608d7d15-58ad-41d1-a28b-2dc0a3c0afee",
   "metadata": {},
   "outputs": [],
   "source": [
    "with torch.inference_mode():\n",
    "    pred_labels = eval_model(test_data.to(device))"
   ]
  },
  {
   "cell_type": "code",
   "execution_count": 22,
   "id": "86ad3787-e8b4-4a3f-8326-3bac8c8919dd",
   "metadata": {},
   "outputs": [
    {
     "data": {
      "image/png": "[encoded data removed]",
      "text/plain": [
       "<Figure size 300x300 with 1 Axes>"
      ]
     },
     "metadata": {},
     "output_type": "display_data"
    }
   ],
   "source": [
    "_, predicted_class_index = torch.max(pred_labels[0], 0)\n",
    "\n",
    "plt.figure(figsize=(3,3))\n",
    "plt.title(f\"True label: {true_label}, predicted label: {class_names[predicted_class_index]}\")\n",
    "plt.imshow(test_data[0].add(1).div(2).permute((1,2,0)).cpu().detach().numpy())\n",
    "\n",
    "plt.show()"
   ]
  },
  {
   "cell_type": "markdown",
   "id": "09e285a1-82f5-4ecb-8268-d7cea19e2f61",
   "metadata": {},
   "source": [
    "#### Calculate accuracy  \n",
    "\n",
    "Now we can run our model on the full testing set to calculate the accuracy of our model.  \n",
    "In practice, we'll keep counting the correct predictions and check what percentage of the predictions are correct."
   ]
  },
  {
   "cell_type": "code",
   "execution_count": 23,
   "id": "a4845d33-2268-491d-b2c9-4cba169b1afa",
   "metadata": {},
   "outputs": [
    {
     "name": "stdout",
     "output_type": "stream",
     "text": [
      "correct samples: 377  \n",
      "total samples: 550  \n",
      "model accuracy: 0.685\n"
     ]
    }
   ],
   "source": [
    "num_samples = 0\n",
    "num_correct = 0\n",
    "\n",
    "with torch.inference_mode():\n",
    "    for i, data in enumerate(test_loader, 0):\n",
    "        # Load: The testing data loader loads a batch of testing data and their true class labels.\n",
    "        inputs, true_labels = data\n",
    "        inputs = inputs.to(device)\n",
    "        true_labels = true_labels.to(device)\n",
    "\n",
    "        # Pass: Forward pass the testing data to our model, and get the predicted classes.\n",
    "        pred_labels = eval_model(inputs)\n",
    "        pred_labels = torch.argmax(pred_labels, dim=1)\n",
    "        \n",
    "        num_correct += pred_labels.size(0) - torch.count_nonzero(pred_labels - true_labels)\n",
    "        num_samples += pred_labels.size(0) \n",
    "        \n",
    "accuracy = num_correct / num_samples\n",
    "print(f'correct samples: {num_correct}  \\ntotal samples: {num_samples}  \\nmodel accuracy: {accuracy:.3f}')"
   ]
  },
  {
   "cell_type": "markdown",
   "id": "e6517d9a-304a-4477-9148-d42016a3af26",
   "metadata": {},
   "source": [
    "## Tasks\n",
    "\n",
    "After you went through all the code in this notebook, **make a copy of this notebook** before working on the tasks so that we can have a direct comparison of the results.\n",
    "\n",
    "### Task 1 \n",
    "Find a different dataset for a different classification task. For example, this [fashion dataset](https://www.kaggle.com/datasets/cryforme/fashiondatatrainsc3), or go to [kaggle.com](https://www.kaggle.com/datasets), choose a dataset that you're interested in (perhaps filtering to Computer Vision datasets only if you're interested in using CNNs). Split the dataset into training and testing sets, and load them into `DataLoader` like in the example code.\n",
    "\n",
    "> *OPTIONAL* Additional Resources on Custom Datasets:\n",
    "> \n",
    "> Below are two articles and a notebook that might help you better understand how to source and prepare data for ML training\n",
    "> \n",
    "> 1. [How to Create Datasets: strategies and examples](https://kili-technology.com/data-labeling/machine-learning/create-dataset-for-machine-learning)\n",
    "> \n",
    "> 2. [Six Ways to Build Your Own Dataset in Python](https://www.analyticsvidhya.com/blog/2024/01/how-to-create-your-own-dataset-in-python/)\n",
    "> \n",
    "> 3. [PyTorch Coding - Custom Datasets](https://www.learnpytorch.io/04_pytorch_custom_datasets/). This notebook is also included in the repo as `03_pytorch_custom_datasets_(optional).ipynb` and gives a good introduction to PyTorch specific data loading code. I recommended reading through section `4.1` to better understand PyTorch code like `Compose`, `DataLoader` and more.\n",
    "\n",
    "### Task 2\n",
    "Go to the cell that defines the convolutional neural network and adjust it to fit the dataset you chose (you might want to add or remove a few convolutional layers). And do some experimentations, try changing at least two of the following:\n",
    " - Loss function\n",
    " - Optimisation method\n",
    " - Network architecture (e.g., number of layers, stride, pooling method, etc.)\n",
    " - Number of training epochs\n",
    " - Batch size\n",
    " - Use of data augmentation\n",
    " - Anything else you can think of  \n",
    "\n",
    "Clearly label in your notebook what changes you did and how this impacted on the accuracy of the classifier.  \n",
    "\n",
    "### Task 3\n",
    "Write your answers to the following questions:\n",
    " - Were you able to improve accuracy over the initial approach?\n",
    " - If you wanted to achieve better performance on this dataset, and you had more time, what do you think would be good things to try out?\n"
   ]
  }
 ],
 "metadata": {
  "kernelspec": {
   "display_name": "coding3",
   "language": "python",
   "name": "python3"
  },
  "language_info": {
   "codemirror_mode": {
    "name": "ipython",
    "version": 3
   },
   "file_extension": ".py",
   "mimetype": "text/x-python",
   "name": "python",
   "nbconvert_exporter": "python",
   "pygments_lexer": "ipython3",
   "version": "3.12.9"
  }
 },
 "nbformat": 4,
 "nbformat_minor": 5
}
