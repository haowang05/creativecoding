{
 "cells": [
  {
   "cell_type": "markdown",
   "id": "46aa07c6-a4fd-4272-8b34-7688658d8eb6",
   "metadata": {},
   "source": [
    "# Transfer Learning from Pre-Trained Models  \n",
    "\n",
    "Instead of starting from randomly initialised weights, transfer learning allows you to start with weights from a pre-trained neural network to learn something new.\n",
    "\n",
    "This notebook walkthrough transfer learning from a [VGG11](https://pytorch.org/vision/main/models/generated/torchvision.models.vgg16.html) model trained on [the imagenet dataset](https://www.image-net.org/). There are a lot of pre-trained models in the [torchvision models library](https://pytorch.org/vision/stable/models.html), feel free to explore other options."
   ]
  },
  {
   "cell_type": "code",
   "execution_count": 1,
   "id": "7294d2ef-7187-44ef-8936-3ed302e4b336",
   "metadata": {},
   "outputs": [
    {
     "name": "stdout",
     "output_type": "stream",
     "text": [
      "Using device: mps\n"
     ]
    }
   ],
   "source": [
    "import torch\n",
    "\n",
    "device = \"cpu\"\n",
    "\n",
    "if torch.cuda.is_available():\n",
    "    device = \"cuda\"\n",
    "\n",
    "elif torch.backends.mps.is_available():\n",
    "    device = \"mps\"\n",
    "\n",
    "print(f'Using device: {device}')"
   ]
  },
  {
   "cell_type": "markdown",
   "id": "9da7cee8-c7b3-43bc-910d-0ac45cb20504",
   "metadata": {},
   "source": [
    "## **Step 1** - Prepare Dataset\n",
    "\n",
    "We'll use the [Flower Recognition](https://aiplanet.com/challenges/61/data-sprint-25-flower-recognition-61/data) dataset again, but this time we'll use images with higher-resolution.\n",
    "\n",
    "If you haven't done this:\n",
    "<u>Please download the dataset from [here](https://drive.google.com/file/d/1v0or9w-z4x0M0SHNFkp9UVZGsJ1G6e_t/view?usp=sharing) and unzip it to the `class-4` folder.</u>"
   ]
  },
  {
   "cell_type": "code",
   "execution_count": 2,
   "id": "07eccab4-d43d-4eb7-871d-58e65a2b2e77",
   "metadata": {},
   "outputs": [],
   "source": [
    "# we choose 224 because this is the input resolution of the VGG16 model\n",
    "image_resolution = 224 \n",
    "\n",
    "# how many colour channels?\n",
    "# 3 for RGB, 1 for greyscale\n",
    "colour_channels = 3\n",
    "\n",
    "# make sure the path to your image folder is correct\n",
    "folder_path = './flowers_n/train'"
   ]
  },
  {
   "cell_type": "markdown",
   "id": "ae522610-c3be-46de-b290-798671c676c7",
   "metadata": {},
   "source": [
    "#### **1.1** - Pre-process images \n",
    "\n",
    "Pre-process (i.e. crop, resize, normalise) the images in our dataset.\n",
    "\n",
    "Use [PyTorch's Transforming functions](https://pytorch.org/vision/0.17/transforms.html) to define the pre-processes pipeline on our images. \n"
   ]
  },
  {
   "cell_type": "code",
   "execution_count": 3,
   "id": "d4cf3412-0e6d-4cd6-be83-8ce1d868b784",
   "metadata": {},
   "outputs": [],
   "source": [
    "from torchvision.transforms.v2 import Compose, ToImage, ToDtype, Grayscale, Resize, RandomCrop, Normalize\n",
    "\n",
    "# this transformation function will help us pre-process images during the training (on-the-fly)\n",
    "transformation = Compose([   \n",
    "    # convert an image to tensor\n",
    "    ToImage(),\n",
    "    ToDtype(torch.float32, scale=True),\n",
    "    \n",
    "    # resize and crop\n",
    "    Resize(image_resolution),\n",
    "    RandomCrop(image_resolution),\n",
    "    \n",
    "    # normalise pixel values to be between -1 and 1 \n",
    "    Normalize((0.5, 0.5, 0.5), (0.5, 0.5, 0.5)),\n",
    "    \n",
    "    # if you're training on greyscale images, convert them to greyscale\n",
    "    # otherwise just do nothing\n",
    "    Grayscale() if colour_channels == 1 else torch.nn.Identity()\n",
    "    \n",
    "])"
   ]
  },
  {
   "cell_type": "markdown",
   "id": "afba6500-322e-4cb9-953a-d04aff923d67",
   "metadata": {},
   "source": [
    "#### **1.2** - Create dataset loaders  \n",
    "\n",
    "Data loaders loads images into batches according to the pre-processes pipeline we have defined previously."
   ]
  },
  {
   "cell_type": "code",
   "execution_count": 4,
   "id": "580ce8cf-5d73-41b4-bd05-abb6aba20a57",
   "metadata": {},
   "outputs": [],
   "source": [
    "from sklearn.model_selection import train_test_split\n",
    "import matplotlib.pyplot as plt\n",
    "\n",
    "from torchvision.datasets import ImageFolder\n",
    "from torch.utils.data import DataLoader\n",
    "\n",
    "import torch\n",
    "import torchvision\n",
    "\n",
    "from torch import nn\n",
    "\n",
    "from IPython.display import display\n",
    "\n",
    "from torchvision.transforms.functional import to_pil_image\n",
    "from torchvision.utils import make_grid"
   ]
  },
  {
   "cell_type": "code",
   "execution_count": 5,
   "id": "522f0e3e-6f69-4138-9d7f-551daf353c2f",
   "metadata": {},
   "outputs": [],
   "source": [
    "# how many images are going to be put into the testing set, \n",
    "# e.g. 0.2 means 20% percent of images\n",
    "test_size = 0.2 \n",
    "\n",
    "# how many images will be used in one epoch, \n",
    "# this usually depend on your model / types of data / CPU or GPU's capability\n",
    "batch_size = 16"
   ]
  },
  {
   "cell_type": "code",
   "execution_count": 8,
   "id": "47206a61-85a8-4307-87c7-7ffdff64992c",
   "metadata": {},
   "outputs": [],
   "source": [
    "# Instatiate train and test datasets\n",
    "train_dataset = ImageFolder(folder_path, transform=transformation)\n",
    "test_dataset = ImageFolder(folder_path, transform=transformation)\n",
    "\n",
    "# Get length of dataset and indicies\n",
    "num_train = len(train_dataset)\n",
    "indices = list(range(num_train))\n",
    "\n",
    "# Get train / test split for data points\n",
    "train_indices, test_indices = train_test_split(indices, test_size=test_size, random_state=42)\n",
    "\n",
    "# Override dataset classes to only be samples for each split\n",
    "train_sub_dataset = torch.utils.data.Subset(train_dataset, train_indices)\n",
    "test_sub_dataset = torch.utils.data.Subset(test_dataset, test_indices)\n",
    "\n",
    "# Create training and tresing data loaders\n",
    "train_loader = DataLoader(train_sub_dataset, batch_size=batch_size, num_workers=4, multiprocessing_context=\"forkserver\" if device=='mps' else None, shuffle=True)\n",
    "test_loader = DataLoader(test_sub_dataset, batch_size=batch_size, num_workers=4, multiprocessing_context=\"forkserver\" if device=='mps' else None, shuffle=True)\n"
   ]
  },
  {
   "cell_type": "code",
   "execution_count": 9,
   "id": "fde22f28-1468-45ff-8713-3270f8d01f6b",
   "metadata": {},
   "outputs": [
    {
     "name": "stdout",
     "output_type": "stream",
     "text": [
      "2196 training images loaded\n",
      "550 testing images loaded\n",
      "classes: ['daisy', 'dandelion', 'rose', 'sunflower', 'tulip']\n",
      "data shape: torch.Size([16, 3, 224, 224])\n",
      "labels shape: torch.Size([16])\n"
     ]
    }
   ],
   "source": [
    "# sort out the names for each classes (according to the folder names)\n",
    "class_names = train_dataset.classes\n",
    "\n",
    "print(f'{len(train_indices)} training images loaded')\n",
    "print(f'{len(test_indices)} testing images loaded')\n",
    "print(f'classes: {class_names}')\n",
    "\n",
    "data, labels = next(iter(train_loader))\n",
    "\n",
    "print(f'data shape: {data.shape}')\n",
    "print(f'labels shape: {labels.shape}')"
   ]
  },
  {
   "cell_type": "markdown",
   "id": "16c874b6-9f50-4110-aada-f147622cff3a",
   "metadata": {},
   "source": [
    "## **Step 2** - Load the pre-trained model  \n",
    "\n",
    "Load the pre-trained VGG11 model from [the torchvision models library](https://pytorch.org/vision/stable/models.html). \n",
    "\n",
    "We are going to do **transfer learning** with this model, which means we are going to start with a trained model rather than a brand new model with random weights.\n",
    "\n",
    "One approach, like we saw in lecture, is to throw away one or more final layers of the original network, and then train new layers to learn the relationship between the activations in the original network and the desired outputs for some new data. (We might also call this \"feature learning\"). \n",
    "\n",
    "Another approach is to take the original network and adjust its weights on some new data. This means that we'll start with the pre-trained model's weight values, rather than start with random weight values, and we will adjust some or all of these values gradually to try to model a new dataset. \n",
    "\n",
    "Both of these transfer learning approaches can work well when you have an existing model that has learned to model something well, and you'd like it to learn to model something slightly different.\n",
    "\n",
    "In this notebook, we'll start by freezing all model parameters (weights) before the last two fully connected layers (i.e. `Linear` layer), and swap the last two fully connected layers with a new `Linear` layer (which will be trained on our new data).\n",
    "\n",
    "We can iterate through all model parameters and set the `requires_grad` attribute to `False`, in this way they are 'freezed', and won't be updated during training.\n"
   ]
  },
  {
   "cell_type": "code",
   "execution_count": 10,
   "id": "189b7e72-45c3-4ce8-90b3-10e7606b1452",
   "metadata": {},
   "outputs": [
    {
     "name": "stdout",
     "output_type": "stream",
     "text": [
      "Downloading: \"https://download.pytorch.org/models/vgg11-8a719046.pth\" to /Users/wh/.cache/torch/hub/checkpoints/vgg11-8a719046.pth\n"
     ]
    },
    {
     "name": "stderr",
     "output_type": "stream",
     "text": [
      "100%|██████████| 507M/507M [00:34<00:00, 15.6MB/s] \n"
     ]
    },
    {
     "data": {
      "text/plain": [
       "VGG(\n",
       "  (features): Sequential(\n",
       "    (0): Conv2d(3, 64, kernel_size=(3, 3), stride=(1, 1), padding=(1, 1))\n",
       "    (1): ReLU(inplace=True)\n",
       "    (2): MaxPool2d(kernel_size=2, stride=2, padding=0, dilation=1, ceil_mode=False)\n",
       "    (3): Conv2d(64, 128, kernel_size=(3, 3), stride=(1, 1), padding=(1, 1))\n",
       "    (4): ReLU(inplace=True)\n",
       "    (5): MaxPool2d(kernel_size=2, stride=2, padding=0, dilation=1, ceil_mode=False)\n",
       "    (6): Conv2d(128, 256, kernel_size=(3, 3), stride=(1, 1), padding=(1, 1))\n",
       "    (7): ReLU(inplace=True)\n",
       "    (8): Conv2d(256, 256, kernel_size=(3, 3), stride=(1, 1), padding=(1, 1))\n",
       "    (9): ReLU(inplace=True)\n",
       "    (10): MaxPool2d(kernel_size=2, stride=2, padding=0, dilation=1, ceil_mode=False)\n",
       "    (11): Conv2d(256, 512, kernel_size=(3, 3), stride=(1, 1), padding=(1, 1))\n",
       "    (12): ReLU(inplace=True)\n",
       "    (13): Conv2d(512, 512, kernel_size=(3, 3), stride=(1, 1), padding=(1, 1))\n",
       "    (14): ReLU(inplace=True)\n",
       "    (15): MaxPool2d(kernel_size=2, stride=2, padding=0, dilation=1, ceil_mode=False)\n",
       "    (16): Conv2d(512, 512, kernel_size=(3, 3), stride=(1, 1), padding=(1, 1))\n",
       "    (17): ReLU(inplace=True)\n",
       "    (18): Conv2d(512, 512, kernel_size=(3, 3), stride=(1, 1), padding=(1, 1))\n",
       "    (19): ReLU(inplace=True)\n",
       "    (20): MaxPool2d(kernel_size=2, stride=2, padding=0, dilation=1, ceil_mode=False)\n",
       "  )\n",
       "  (avgpool): AdaptiveAvgPool2d(output_size=(7, 7))\n",
       "  (classifier): Sequential(\n",
       "    (0): Linear(in_features=25088, out_features=4096, bias=True)\n",
       "    (1): ReLU(inplace=True)\n",
       "    (2): Dropout(p=0.5, inplace=False)\n",
       "    (3): Linear(in_features=4096, out_features=4096, bias=True)\n",
       "    (4): ReLU(inplace=True)\n",
       "    (5): Dropout(p=0.5, inplace=False)\n",
       "    (6): Linear(in_features=4096, out_features=1000, bias=True)\n",
       "  )\n",
       ")"
      ]
     },
     "execution_count": 10,
     "metadata": {},
     "output_type": "execute_result"
    }
   ],
   "source": [
    "model = torchvision.models.vgg11(weights='IMAGENET1K_V1')\n",
    "model"
   ]
  },
  {
   "cell_type": "markdown",
   "id": "1ea2b15d-df10-4894-a2c9-09067105178d",
   "metadata": {},
   "source": [
    "**Run this cell if you want to freeze all model parameters in the original network (e.g. because you are replacing the last layers entirely). Or, skip this step if you want to instead fine-tune all weights in the network to reflect the new data.**"
   ]
  },
  {
   "cell_type": "code",
   "execution_count": 11,
   "id": "b5704445-39d8-4b0a-94a6-b6c7999a8a19",
   "metadata": {},
   "outputs": [],
   "source": [
    "# freeze all model parameters\n",
    "for param in model.parameters():\n",
    "    param.requires_grad = False"
   ]
  },
  {
   "cell_type": "markdown",
   "id": "0e4c87e6-6510-4f76-8a9d-9d9e1da9d604",
   "metadata": {},
   "source": [
    "Replace the last two fully connected layers with new ones:"
   ]
  },
  {
   "cell_type": "code",
   "execution_count": 12,
   "id": "5562d361-a508-4d55-8bc1-7ea442ae1058",
   "metadata": {},
   "outputs": [
    {
     "data": {
      "text/plain": [
       "VGG(\n",
       "  (features): Sequential(\n",
       "    (0): Conv2d(3, 64, kernel_size=(3, 3), stride=(1, 1), padding=(1, 1))\n",
       "    (1): ReLU(inplace=True)\n",
       "    (2): MaxPool2d(kernel_size=2, stride=2, padding=0, dilation=1, ceil_mode=False)\n",
       "    (3): Conv2d(64, 128, kernel_size=(3, 3), stride=(1, 1), padding=(1, 1))\n",
       "    (4): ReLU(inplace=True)\n",
       "    (5): MaxPool2d(kernel_size=2, stride=2, padding=0, dilation=1, ceil_mode=False)\n",
       "    (6): Conv2d(128, 256, kernel_size=(3, 3), stride=(1, 1), padding=(1, 1))\n",
       "    (7): ReLU(inplace=True)\n",
       "    (8): Conv2d(256, 256, kernel_size=(3, 3), stride=(1, 1), padding=(1, 1))\n",
       "    (9): ReLU(inplace=True)\n",
       "    (10): MaxPool2d(kernel_size=2, stride=2, padding=0, dilation=1, ceil_mode=False)\n",
       "    (11): Conv2d(256, 512, kernel_size=(3, 3), stride=(1, 1), padding=(1, 1))\n",
       "    (12): ReLU(inplace=True)\n",
       "    (13): Conv2d(512, 512, kernel_size=(3, 3), stride=(1, 1), padding=(1, 1))\n",
       "    (14): ReLU(inplace=True)\n",
       "    (15): MaxPool2d(kernel_size=2, stride=2, padding=0, dilation=1, ceil_mode=False)\n",
       "    (16): Conv2d(512, 512, kernel_size=(3, 3), stride=(1, 1), padding=(1, 1))\n",
       "    (17): ReLU(inplace=True)\n",
       "    (18): Conv2d(512, 512, kernel_size=(3, 3), stride=(1, 1), padding=(1, 1))\n",
       "    (19): ReLU(inplace=True)\n",
       "    (20): MaxPool2d(kernel_size=2, stride=2, padding=0, dilation=1, ceil_mode=False)\n",
       "  )\n",
       "  (avgpool): AdaptiveAvgPool2d(output_size=(7, 7))\n",
       "  (classifier): Sequential(\n",
       "    (0): Linear(in_features=25088, out_features=4096, bias=True)\n",
       "    (1): ReLU(inplace=True)\n",
       "    (2): Dropout(p=0.5, inplace=False)\n",
       "    (3): Linear(in_features=4096, out_features=256, bias=True)\n",
       "    (4): ReLU(inplace=True)\n",
       "    (5): Dropout(p=0.5, inplace=False)\n",
       "    (6): Linear(in_features=256, out_features=5, bias=True)\n",
       "  )\n",
       ")"
      ]
     },
     "execution_count": 12,
     "metadata": {},
     "output_type": "execute_result"
    }
   ],
   "source": [
    "# replace the last two fully connected layers with new ones.\n",
    "model.classifier[3] = nn.Linear(model.classifier[3].in_features, 256)\n",
    "model.classifier[6] = nn.Linear(256, 5)\n",
    "\n",
    "model.to(device)"
   ]
  },
  {
   "cell_type": "markdown",
   "id": "14894534-8b96-4cb7-91e4-15d9048287d4",
   "metadata": {},
   "source": [
    "## **Step 3** - Train the model\n",
    "\n",
    "Now we can used the training workflow to train the model\n"
   ]
  },
  {
   "cell_type": "markdown",
   "id": "27f42c6a-e5d5-40cb-96ee-23ecf5be2f7b",
   "metadata": {},
   "source": [
    "\n",
    "#### Define optimiser and loss function"
   ]
  },
  {
   "cell_type": "code",
   "execution_count": 13,
   "id": "53e3ad3a-65c8-4e58-9288-a753e332728e",
   "metadata": {},
   "outputs": [],
   "source": [
    "# Cross entropy loss\n",
    "loss_function = torch.nn.CrossEntropyLoss().to(device)\n",
    "\n",
    "# Adam optimizer\n",
    "optimizer = torch.optim.Adam(model.parameters())"
   ]
  },
  {
   "cell_type": "markdown",
   "id": "cd324205-9f5c-4385-a776-1a6addd7692c",
   "metadata": {},
   "source": [
    "#### Define training/ testing loop  "
   ]
  },
  {
   "cell_type": "code",
   "execution_count": 14,
   "id": "a2df78e8-7fbb-4a14-9003-54e55f16afbe",
   "metadata": {
    "scrolled": true,
    "tags": []
   },
   "outputs": [
    {
     "name": "stdout",
     "output_type": "stream",
     "text": [
      "Epoch 0\n",
      "  -> Step 0001, train loss: 1.6576\n",
      "  -> Step 0051, train loss: 0.4004\n",
      "  -> Step 0101, train loss: 0.6784\n",
      "Epoch 1, train loss: 0.661, test loss: 0.360\n",
      "  -> Step 0001, train loss: 0.4773\n",
      "  -> Step 0051, train loss: 0.2809\n",
      "  -> Step 0101, train loss: 0.3216\n",
      "Epoch 2, train loss: 0.401, test loss: 0.287\n",
      "  -> Step 0001, train loss: 0.3879\n",
      "  -> Step 0051, train loss: 0.3104\n",
      "  -> Step 0101, train loss: 0.5805\n",
      "Epoch 3, train loss: 0.349, test loss: 0.295\n",
      "  -> Step 0001, train loss: 0.0943\n",
      "  -> Step 0051, train loss: 0.4243\n",
      "  -> Step 0101, train loss: 0.2684\n",
      "Epoch 4, train loss: 0.304, test loss: 0.266\n",
      "  -> Step 0001, train loss: 0.2070\n",
      "  -> Step 0051, train loss: 0.1644\n",
      "  -> Step 0101, train loss: 0.1179\n",
      "Epoch 5, train loss: 0.262, test loss: 0.308\n",
      "  -> Step 0001, train loss: 0.2941\n",
      "  -> Step 0051, train loss: 0.4153\n",
      "  -> Step 0101, train loss: 0.2404\n",
      "Epoch 6, train loss: 0.271, test loss: 0.237\n",
      "  -> Step 0001, train loss: 0.2684\n",
      "  -> Step 0051, train loss: 0.1626\n",
      "  -> Step 0101, train loss: 0.3153\n",
      "Epoch 7, train loss: 0.231, test loss: 0.289\n",
      "  -> Step 0001, train loss: 0.0933\n",
      "  -> Step 0051, train loss: 0.4661\n",
      "  -> Step 0101, train loss: 0.2082\n",
      "Epoch 8, train loss: 0.214, test loss: 0.263\n",
      "  -> Step 0001, train loss: 0.5247\n",
      "  -> Step 0051, train loss: 0.0327\n",
      "  -> Step 0101, train loss: 0.3465\n",
      "Epoch 9, train loss: 0.204, test loss: 0.269\n",
      "  -> Step 0001, train loss: 0.0133\n",
      "  -> Step 0051, train loss: 0.1172\n",
      "  -> Step 0101, train loss: 0.0217\n",
      "Epoch 10, train loss: 0.194, test loss: 0.247\n",
      "training finished, model saved to 'model_final.pt'\n"
     ]
    }
   ],
   "source": [
    "# we can save the model regularly\n",
    "save_every_n_epoch = 5\n",
    "\n",
    "# total number of epochs we aim for\n",
    "num_epochs = 10\n",
    "\n",
    "# keep track of the losses, we can plot them in the end\n",
    "train_losses = []\n",
    "test_losses = []\n",
    "\n",
    "print('Epoch 0')\n",
    "\n",
    "for epoch in range(num_epochs): \n",
    "\n",
    "    #---- Training loop -----------------------------\n",
    "    train_loss = 0.0\n",
    "    model.train()\n",
    "    \n",
    "    for i, data in enumerate(train_loader, 0):\n",
    "        # Load: The training data loader loads a batch of training data and their true class labels.\n",
    "        inputs, true_labels = data\n",
    "        inputs = inputs.to(device)\n",
    "        true_labels = true_labels.to(device)\n",
    "        \n",
    "        # Pass: Forward pass the training data to our model, and get the predicted classes.\n",
    "        pred_labels = model(inputs)\n",
    "        \n",
    "        # Loss: The loss function compares the predicted classes to the true classes, and calculates the error.\n",
    "        loss = loss_function(pred_labels, true_labels)\n",
    "        train_loss += loss.item()\n",
    "        \n",
    "        # Optimise: The optimizer slightly optimises our model based on the error.\n",
    "        loss.backward()\n",
    "        optimizer.step()\n",
    "        optimizer.zero_grad()\n",
    "        \n",
    "        if i % 50 == 0:\n",
    "            print(f'  -> Step {i + 1:04}, train loss: {loss.item():.4f}')\n",
    "    \n",
    "    \n",
    "    #---- Testing loop -----------------------------\n",
    "    test_loss = 0.0\n",
    "    model.eval()\n",
    "    \n",
    "    with torch.inference_mode():\n",
    "        test_loss = 0.0\n",
    "        for i, data in enumerate(test_loader, 0):\n",
    "            # Load: The testing data loader loads a batch of testing data and their true class labels.\n",
    "            inputs, true_labels = data\n",
    "            inputs = inputs.to(device)\n",
    "            true_labels = true_labels.to(device)\n",
    "            \n",
    "            # Pass: Forward pass the testing data to our model, and get the predicted classes.\n",
    "            pred_labels = model(inputs)\n",
    "            \n",
    "            # Loss: The loss function compares the predicted classes to the true classes, and calculates the error.\n",
    "            loss = loss_function(pred_labels, true_labels)\n",
    "            test_loss += loss.item()\n",
    "    \n",
    "    \n",
    "    #---- Report some numbers -----------------------------\n",
    "    \n",
    "    # Calculate the cumulative losses in this epoch\n",
    "    train_loss = train_loss / len(train_loader)\n",
    "    test_loss = test_loss / len(test_loader)\n",
    "    \n",
    "    # Added cumulative losses to lists for later display\n",
    "    train_losses.append(train_loss)\n",
    "    test_losses.append(test_loss)\n",
    "    \n",
    "    print(f'Epoch {epoch + 1}, train loss: {train_loss:.3f}, test loss: {test_loss:.3f}')\n",
    "    \n",
    "    # save our model every n epoch\n",
    "    if (epoch+1) % save_every_n_epoch==0:\n",
    "        torch.save(model.state_dict(), f'model_epoch{epoch:04}.pt')\n",
    "        \n",
    "# save the model at the end of the training process\n",
    "torch.save(model.state_dict(), f'model_final.pt')\n",
    "\n",
    "print(\"training finished, model saved to 'model_final.pt'\")"
   ]
  },
  {
   "cell_type": "markdown",
   "id": "c974e99e-0fd0-486f-9882-8412c2cc0258",
   "metadata": {},
   "source": [
    "#### Plot Training Process\n"
   ]
  },
  {
   "cell_type": "code",
   "execution_count": 15,
   "id": "c475d07d-3399-483b-8d9e-c2509ac377a2",
   "metadata": {},
   "outputs": [],
   "source": [
    "import matplotlib.pyplot as plt\n",
    "import numpy as np"
   ]
  },
  {
   "cell_type": "code",
   "execution_count": 16,
   "id": "b44b8efe-9f8b-4521-a69f-7c7773c5cf85",
   "metadata": {},
   "outputs": [
    {
     "data": {
      "image/png": "[encoded data removed]",
      "text/plain": [
       "<Figure size 500x300 with 1 Axes>"
      ]
     },
     "metadata": {},
     "output_type": "display_data"
    }
   ],
   "source": [
    "plt.figure(figsize=(5,3))\n",
    "plt.plot(train_losses, label='training loss')\n",
    "plt.plot(test_losses, label = 'validation loss')\n",
    "plt.xticks(np.arange(len(train_losses)))\n",
    "plt.xlabel('Epoch')\n",
    "plt.ylabel('Loss')\n",
    "plt.legend(loc='upper right')\n",
    "plt.show()"
   ]
  },
  {
   "cell_type": "markdown",
   "id": "03d9c6ba-73d4-47e3-b7be-d6338609a5c5",
   "metadata": {},
   "source": [
    "## **Step 4** - Calculate accuracy  \n",
    "\n",
    "Now we can run our model on the full testing set to calculate the accuracy of our model.  \n",
    "\n",
    "Compare the result with the model that we trained from scratch in the first notebook. Does the accuracy improve?"
   ]
  },
  {
   "cell_type": "code",
   "execution_count": 17,
   "id": "0c3b3f30-2313-49cc-b493-c97af0fee919",
   "metadata": {},
   "outputs": [
    {
     "name": "stdout",
     "output_type": "stream",
     "text": [
      "correct samples: 505  \n",
      "total samples: 550  \n",
      "model accuracy: 0.918\n"
     ]
    }
   ],
   "source": [
    "num_samples = 0\n",
    "num_correct = 0\n",
    "\n",
    "with torch.inference_mode():\n",
    "    for i, data in enumerate(test_loader, 0):\n",
    "        # Load: The testing data loader loads a batch of testing data and their true class labels.\n",
    "        inputs, true_labels = data\n",
    "        inputs = inputs.to(device)\n",
    "        true_labels = true_labels.to(device)\n",
    "\n",
    "        # Pass: Forward pass the testing data to our model, and get the predicted classes.\n",
    "        pred_labels = model(inputs)\n",
    "        pred_labels = torch.argmax(pred_labels, dim=1)\n",
    "        \n",
    "        num_correct += pred_labels.size(0) - torch.count_nonzero(pred_labels - true_labels)\n",
    "        num_samples += pred_labels.size(0) \n",
    "        \n",
    "accuracy = num_correct / num_samples\n",
    "print(f'correct samples: {num_correct}  \\ntotal samples: {num_samples}  \\nmodel accuracy: {accuracy:.3f}')"
   ]
  },
  {
   "cell_type": "markdown",
   "id": "ab72fa67-b430-42f1-a6bd-44d96daa3191",
   "metadata": {},
   "source": [
    "## Tasks\n",
    "\n",
    "After you went through all the code in this notebook, **make a copy of this notebook** before working on the tasks so that we can have a direct comparison of the results.\n",
    "\n",
    "**Task 1**: Look at other models from the [PyTorch model library](https://pytorch.org/vision/stable/models.html), choose a different pre-trained model (e.g. ResNet18), load it, freeze the weights, and swap the last one or two fully connected layers (just like what we have did for the VGG11 model). Train the model and compare the results (e.g. which model converges faster? Does the accuracy improve?)\n",
    "\n",
    "**Bonus Task**: Re-run the code and try out the alternative approach of fine-tuning **all** weights in the network rather than only learning a new final layer (check their differences in Step 2). This means you will skip the step that freezes model parameters for fine-tuning. How do the result and the training process compare? Is this approach converge noticeably slower?"
   ]
  },
  {
   "cell_type": "markdown",
   "id": "1951422d",
   "metadata": {},
   "source": []
  }
 ],
 "metadata": {
  "kernelspec": {
   "display_name": "coding3",
   "language": "python",
   "name": "python3"
  },
  "language_info": {
   "codemirror_mode": {
    "name": "ipython",
    "version": 3
   },
   "file_extension": ".py",
   "mimetype": "text/x-python",
   "name": "python",
   "nbconvert_exporter": "python",
   "pygments_lexer": "ipython3",
   "version": "3.12.9"
  }
 },
 "nbformat": 4,
 "nbformat_minor": 5
}
