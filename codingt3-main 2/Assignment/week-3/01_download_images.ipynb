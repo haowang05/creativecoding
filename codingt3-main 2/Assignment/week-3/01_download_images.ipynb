{
 "cells": [
  {
   "cell_type": "markdown",
   "id": "94e67da1-02f2-4b1a-aaac-1ebe65633894",
   "metadata": {},
   "source": [
    "\n",
    "Borrowed from Terry's AI-4-Media unit, week 3: [create-classification-dataset.ipynb](https://git.arts.ac.uk/tbroad/AI-4-Media-23-24/blob/main/Week-3-CNNs-and-image-classification/create-classification-dataset.ipynb)\n"
   ]
  },
  {
   "cell_type": "markdown",
   "id": "922b8346-af40-4019-9647-3ff69e4aa1e6",
   "metadata": {},
   "source": [
    "## Make a classification dataset  \n",
    "\n",
    "In this notebook we are going to look at how to quickly make our own image classification datasets, which we can then use for training an image classifier.\n",
    "\n",
    "To do this we are going to use a python library called [`gallery-dl`](https://github.com/mikf/gallery-dl). This allows us to download entire image galleries from sites such as [pinterest](https://www.pinterest.co.uk/), [tumblr](https://www.tumblr.com/), and [bbc](https://www.bbc.co.uk/). \n",
    "\n",
    "In this walkthrough we will look at downloading from pinterest, downloading boards that have been pre-curated by other users on the platform. \n",
    "\n",
    "First let's do some installation:"
   ]
  },
  {
   "cell_type": "code",
   "execution_count": 1,
   "id": "fcf56be6-eaa4-43d9-bb1f-50ae570fb440",
   "metadata": {},
   "outputs": [
    {
     "name": "stdout",
     "output_type": "stream",
     "text": [
      "Requirement already satisfied: gallery-dl in /opt/miniconda3/envs/coding3/lib/python3.12/site-packages (1.29.6)\n",
      "Requirement already satisfied: requests>=2.11.0 in /opt/miniconda3/envs/coding3/lib/python3.12/site-packages (from gallery-dl) (2.32.3)\n",
      "Requirement already satisfied: charset-normalizer<4,>=2 in /opt/miniconda3/envs/coding3/lib/python3.12/site-packages (from requests>=2.11.0->gallery-dl) (3.4.2)\n",
      "Requirement already satisfied: idna<4,>=2.5 in /opt/miniconda3/envs/coding3/lib/python3.12/site-packages (from requests>=2.11.0->gallery-dl) (3.10)\n",
      "Requirement already satisfied: urllib3<3,>=1.21.1 in /opt/miniconda3/envs/coding3/lib/python3.12/site-packages (from requests>=2.11.0->gallery-dl) (2.4.0)\n",
      "Requirement already satisfied: certifi>=2017.4.17 in /opt/miniconda3/envs/coding3/lib/python3.12/site-packages (from requests>=2.11.0->gallery-dl) (2025.4.26)\n"
     ]
    }
   ],
   "source": [
    "# this only need to be done once, \n",
    "# it will install gallery-dl to your coding3 environment\n",
    "\n",
    "! pip install -U gallery-dl"
   ]
  },
  {
   "cell_type": "markdown",
   "id": "225000a0-279b-4ea5-b26d-c2188082397c",
   "metadata": {},
   "source": [
    "Then let's do some import"
   ]
  },
  {
   "cell_type": "code",
   "execution_count": 27,
   "id": "ad7f5438-4857-4827-be79-e890902cd034",
   "metadata": {},
   "outputs": [],
   "source": [
    "from PIL import Image\n",
    "import os, os.path\n",
    "import shutil\n",
    "\n",
    "from torchvision.transforms.v2.functional import resize"
   ]
  },
  {
   "cell_type": "markdown",
   "id": "ff403da5-f55c-4cfa-8adb-bb8bf5568780",
   "metadata": {},
   "source": [
    "### Step 1: Make a folder for your dataset\n",
    "\n",
    "Lets make a folder for you dataset. We will call it `my_dataset`. And put it in the folder `./data`. You might need to create that folder too."
   ]
  },
  {
   "cell_type": "code",
   "execution_count": 24,
   "id": "443f7d49-b957-44ef-9520-33a5cdb9fc37",
   "metadata": {},
   "outputs": [
    {
     "name": "stdout",
     "output_type": "stream",
     "text": [
      "./data/my_dataset already existed, no worries, keep going\n"
     ]
    }
   ],
   "source": [
    "my_dataset_path = './data/my_dataset'\n",
    "\n",
    "try:\n",
    "    os.mkdir('./data')\n",
    "    os.mkdir(my_dataset_path)\n",
    "except FileExistsError:\n",
    "    print(f'{my_dataset_path} already existed, no worries, keep going')"
   ]
  },
  {
   "cell_type": "markdown",
   "id": "28940507-35db-45bb-a93e-20cf3b202722",
   "metadata": {},
   "source": [
    "### Step 2: Navigate to pinterest and download a board\n",
    "\n",
    "Go to https://www.pinterest.co.uk/ and search for a category of image or thing of your interest. It is totally up to you what classes you have in your dataset!\n",
    "\n",
    "When searching for a category you will need to click the filter on the side after a search query is made and then select the option for **Boards**. See the image below:\n",
    "\n",
    "<img src=\"./src/graphics/pinterest-filter-example.png\" width=\"800\"></img>\n",
    "\n",
    "Select a board and then look at the URL of the pinterest board, it should be something like `https://www.pinterest.co.uk/user_id/board_id/`, use the URL as an argument for the command below:\n",
    "\n",
    "For example, `!gallery-dl https://www.pinterest.co.uk/bbuechi/chair-design/ --filter \"extension in ('jpg', 'png', 'gif')\"`  "
   ]
  },
  {
   "cell_type": "markdown",
   "id": "e2a0a3ba-8f75-41ae-a02a-9ff7d9ba46a9",
   "metadata": {},
   "source": [
    "You can early stop it if there're too many images in the board, but typically you'll need at least a few hundreds of images for one class"
   ]
  },
  {
   "cell_type": "code",
   "execution_count": 28,
   "id": "44292bc8-c060-4aad-ad62-d95939b3faf9",
   "metadata": {
    "scrolled": true,
    "tags": []
   },
   "outputs": [
    {
     "name": "stdout",
     "output_type": "stream",
     "text": [
      "\u001b[1;32m./gallery-dl/pinterest/ryahmd2001/Cup./pinterest_578712620908067242.jpg\u001b[0m\n",
      "\u001b[1;32m./gallery-dl/pinterest/ryahmd2001/Cup./pinterest_578712620907782330.jpg\u001b[0m\n",
      "\u001b[1;32m./gallery-dl/pinterest/ryahmd2001/Cup./pinterest_578712620907782325.jpg\u001b[0m\n",
      "\u001b[1;32m./gallery-dl/pinterest/ryahmd2001/Cup./pinterest_578712620907782321.jpg\u001b[0m\n",
      "\u001b[1;32m./gallery-dl/pinterest/ryahmd2001/Cup./pinterest_578712620907782318.jpg\u001b[0m\n",
      "\u001b[1;32m./gallery-dl/pinterest/ryahmd2001/Cup./pinterest_578712620907646581.jpg\u001b[0m\n",
      "\u001b[1;32m./gallery-dl/pinterest/ryahmd2001/Cup./pinterest_578712620907646577.jpg\u001b[0m\n",
      "\u001b[1;32m./gallery-dl/pinterest/ryahmd2001/Cup./pinterest_578712620906518088.jpg\u001b[0m\n",
      "\u001b[1;32m./gallery-dl/pinterest/ryahmd2001/Cup./pinterest_578712620906406826.jpg\u001b[0m\n",
      "\u001b[1;32m./gallery-dl/pinterest/ryahmd2001/Cup./pinterest_578712620906403830.jpg\u001b[0m\n",
      "\u001b[1;32m./gallery-dl/pinterest/ryahmd2001/Cup./pinterest_578712620906403821.jpg\u001b[0m\n",
      "\u001b[1;32m./gallery-dl/pinterest/ryahmd2001/Cup./pinterest_578712620906399240.jpg\u001b[0m\n",
      "\u001b[1;32m./gallery-dl/pinterest/ryahmd2001/Cup./pinterest_578712620906399237.jpg\u001b[0m\n",
      "\u001b[1;32m./gallery-dl/pinterest/ryahmd2001/Cup./pinterest_578712620906399216.jpg\u001b[0m\n",
      "\u001b[1;32m./gallery-dl/pinterest/ryahmd2001/Cup./pinterest_578712620906399210.jpg\u001b[0m\n",
      "\u001b[1;32m./gallery-dl/pinterest/ryahmd2001/Cup./pinterest_578712620906399208.jpg\u001b[0m\n",
      "\u001b[1;32m./gallery-dl/pinterest/ryahmd2001/Cup./pinterest_578712620906399191.jpg\u001b[0m\n",
      "\u001b[1;32m./gallery-dl/pinterest/ryahmd2001/Cup./pinterest_578712620906399165.jpg\u001b[0m\n",
      "\u001b[1;32m./gallery-dl/pinterest/ryahmd2001/Cup./pinterest_578712620906398946.jpg\u001b[0m\n",
      "\u001b[1;32m./gallery-dl/pinterest/ryahmd2001/Cup./pinterest_578712620906398936.jpg\u001b[0m\n",
      "\u001b[1;32m./gallery-dl/pinterest/ryahmd2001/Cup./pinterest_578712620906355677.jpg\u001b[0m\n",
      "\u001b[1;32m./gallery-dl/pinterest/ryahmd2001/Cup./pinterest_578712620906320052.jpg\u001b[0m\n",
      "\u001b[1;32m./gallery-dl/pinterest/ryahmd2001/Cup./pinterest_578712620906248000.jpg\u001b[0m\n",
      "\u001b[1;32m./gallery-dl/pinterest/ryahmd2001/Cup./pinterest_578712620906247995.jpg\u001b[0m\n",
      "\u001b[1;32m./gallery-dl/pinterest/ryahmd2001/Cup./pinterest_578712620906247876.jpg\u001b[0m\n",
      "\u001b[1;32m./gallery-dl/pinterest/ryahmd2001/Cup./pinterest_578712620906247873.jpg\u001b[0m\n",
      "\u001b[1;32m./gallery-dl/pinterest/ryahmd2001/Cup./pinterest_578712620906247826.jpg\u001b[0m\n",
      "\u001b[1;32m./gallery-dl/pinterest/ryahmd2001/Cup./pinterest_578712620906247803.jpg\u001b[0m\n",
      "\u001b[1;32m./gallery-dl/pinterest/ryahmd2001/Cup./pinterest_578712620906247801.jpg\u001b[0m\n",
      "\u001b[1;32m./gallery-dl/pinterest/ryahmd2001/Cup./pinterest_578712620906247796.jpg\u001b[0m\n",
      "\u001b[1;32m./gallery-dl/pinterest/ryahmd2001/Cup./pinterest_578712620906247793.jpg\u001b[0m\n",
      "\u001b[1;32m./gallery-dl/pinterest/ryahmd2001/Cup./pinterest_578712620906247789.jpg\u001b[0m\n",
      "\u001b[1;32m./gallery-dl/pinterest/ryahmd2001/Cup./pinterest_578712620905597036.jpg\u001b[0m\n",
      "\u001b[1;32m./gallery-dl/pinterest/ryahmd2001/Cup./pinterest_578712620905597033.jpg\u001b[0m\n",
      "\u001b[1;32m./gallery-dl/pinterest/ryahmd2001/Cup./pinterest_578712620905459657.jpg\u001b[0m\n",
      "\u001b[1;32m./gallery-dl/pinterest/ryahmd2001/Cup./pinterest_578712620904597973.jpg\u001b[0m\n",
      "\u001b[1;32m./gallery-dl/pinterest/ryahmd2001/Cup./pinterest_578712620904512069.jpg\u001b[0m\n",
      "\u001b[1;32m./gallery-dl/pinterest/ryahmd2001/Cup./pinterest_578712620904462604.jpg\u001b[0m\n",
      "\u001b[1;32m./gallery-dl/pinterest/ryahmd2001/Cup./pinterest_578712620904381722.jpg\u001b[0m\n",
      "\u001b[1;32m./gallery-dl/pinterest/ryahmd2001/Cup./pinterest_578712620903594760.jpg\u001b[0m\n",
      "\u001b[1;32m./gallery-dl/pinterest/ryahmd2001/Cup./pinterest_578712620903116186.jpg\u001b[0m\n",
      "\u001b[1;32m./gallery-dl/pinterest/ryahmd2001/Cup./pinterest_578712620903116181.jpg\u001b[0m\n",
      "\u001b[1;32m./gallery-dl/pinterest/ryahmd2001/Cup./pinterest_578712620903116179.jpg\u001b[0m\n",
      "\u001b[1;32m./gallery-dl/pinterest/ryahmd2001/Cup./pinterest_578712620903036696.jpg\u001b[0m\n",
      "\u001b[1;32m./gallery-dl/pinterest/ryahmd2001/Cup./pinterest_578712620902946492.jpg\u001b[0m\n",
      "\u001b[1;32m./gallery-dl/pinterest/ryahmd2001/Cup./pinterest_578712620902767067.jpg\u001b[0m\n",
      "\u001b[1;32m./gallery-dl/pinterest/ryahmd2001/Cup./pinterest_578712620902766957.jpg\u001b[0m\n",
      "\u001b[1;32m./gallery-dl/pinterest/ryahmd2001/Cup./pinterest_578712620902766874.jpg\u001b[0m\n",
      "\u001b[1;32m./gallery-dl/pinterest/ryahmd2001/Cup./pinterest_578712620902766680.jpg\u001b[0m\n",
      "\u001b[1;32m./gallery-dl/pinterest/ryahmd2001/Cup./pinterest_578712620902755193.jpg\u001b[0m\n",
      "\u001b[1;32m./gallery-dl/pinterest/ryahmd2001/Cup./pinterest_578712620902754446.jpg\u001b[0m\n",
      "\u001b[1;32m./gallery-dl/pinterest/ryahmd2001/Cup./pinterest_578712620902753961.jpg\u001b[0m\n",
      "\u001b[1;32m./gallery-dl/pinterest/ryahmd2001/Cup./pinterest_578712620902753665.jpg\u001b[0m\n",
      "\u001b[1;32m./gallery-dl/pinterest/ryahmd2001/Cup./pinterest_578712620902753617.jpg\u001b[0m\n",
      "\u001b[1;32m./gallery-dl/pinterest/ryahmd2001/Cup./pinterest_578712620902753570.jpg\u001b[0m\n",
      "\u001b[1;32m./gallery-dl/pinterest/ryahmd2001/Cup./pinterest_578712620902753277.jpg\u001b[0m\n",
      "\u001b[1;32m./gallery-dl/pinterest/ryahmd2001/Cup./pinterest_578712620902753199.jpg\u001b[0m\n",
      "\u001b[1;32m./gallery-dl/pinterest/ryahmd2001/Cup./pinterest_578712620902753160.jpg\u001b[0m\n",
      "\u001b[1;32m./gallery-dl/pinterest/ryahmd2001/Cup./pinterest_578712620902753150.jpg\u001b[0m\n",
      "\u001b[1;32m./gallery-dl/pinterest/ryahmd2001/Cup./pinterest_578712620902326045.jpg\u001b[0m\n",
      "\u001b[1;32m./gallery-dl/pinterest/ryahmd2001/Cup./pinterest_578712620901792175.jpg\u001b[0m\n",
      "\u001b[1;32m./gallery-dl/pinterest/ryahmd2001/Cup./pinterest_578712620901440472.jpg\u001b[0m\n",
      "\u001b[1;32m./gallery-dl/pinterest/ryahmd2001/Cup./pinterest_578712620901440290.jpg\u001b[0m\n",
      "\u001b[1;32m./gallery-dl/pinterest/ryahmd2001/Cup./pinterest_578712620901440246.jpg\u001b[0m\n",
      "\u001b[1;32m./gallery-dl/pinterest/ryahmd2001/Cup./pinterest_578712620901438801.jpg\u001b[0m\n",
      "\u001b[1;32m./gallery-dl/pinterest/ryahmd2001/Cup./pinterest_578712620901397416.jpg\u001b[0m\n",
      "\u001b[1;32m./gallery-dl/pinterest/ryahmd2001/Cup./pinterest_578712620901397385.jpg\u001b[0m\n",
      "\u001b[1;32m./gallery-dl/pinterest/ryahmd2001/Cup./pinterest_578712620901195333.jpg\u001b[0m\n",
      "\u001b[1;32m./gallery-dl/pinterest/ryahmd2001/Cup./pinterest_578712620901195014.jpg\u001b[0m\n",
      "\u001b[1;32m./gallery-dl/pinterest/ryahmd2001/Cup./pinterest_578712620901195011.jpg\u001b[0m\n",
      "\u001b[1;32m./gallery-dl/pinterest/ryahmd2001/Cup./pinterest_578712620901195010.jpg\u001b[0m\n",
      "\u001b[1;32m./gallery-dl/pinterest/ryahmd2001/Cup./pinterest_578712620901125172.jpg\u001b[0m\n",
      "\u001b[1;32m./gallery-dl/pinterest/ryahmd2001/Cup./pinterest_578712620901050982.jpg\u001b[0m\n",
      "\u001b[1;32m./gallery-dl/pinterest/ryahmd2001/Cup./pinterest_578712620900472523.jpg\u001b[0m\n",
      "\u001b[1;32m./gallery-dl/pinterest/ryahmd2001/Cup./pinterest_578712620900308049.jpg\u001b[0m\n",
      "\u001b[1;32m./gallery-dl/pinterest/ryahmd2001/Cup./pinterest_578712620900307955.jpg\u001b[0m\n",
      "\u001b[1;32m./gallery-dl/pinterest/ryahmd2001/Cup./pinterest_578712620900307896.jpg\u001b[0m\n",
      "\u001b[1;32m./gallery-dl/pinterest/ryahmd2001/Cup./pinterest_578712620900307895.jpg\u001b[0m\n",
      "\u001b[1;32m./gallery-dl/pinterest/ryahmd2001/Cup./pinterest_578712620900307894.jpg\u001b[0m\n",
      "\u001b[1;32m./gallery-dl/pinterest/ryahmd2001/Cup./pinterest_578712620900307534.jpg\u001b[0m\n",
      "\u001b[1;32m./gallery-dl/pinterest/ryahmd2001/Cup./pinterest_578712620900307365.jpg\u001b[0m\n",
      "\u001b[1;32m./gallery-dl/pinterest/ryahmd2001/Cup./pinterest_578712620899828019.jpg\u001b[0m\n",
      "\u001b[1;32m./gallery-dl/pinterest/ryahmd2001/Cup./pinterest_578712620899775151.jpg\u001b[0m\n",
      "\u001b[1;32m./gallery-dl/pinterest/ryahmd2001/Cup./pinterest_578712620899775084.jpg\u001b[0m\n",
      "\u001b[1;32m./gallery-dl/pinterest/ryahmd2001/Cup./pinterest_578712620899774897.jpg\u001b[0m\n",
      "\u001b[1;32m./gallery-dl/pinterest/ryahmd2001/Cup./pinterest_578712620899665067.jpg\u001b[0m\n",
      "\u001b[1;32m./gallery-dl/pinterest/ryahmd2001/Cup./pinterest_578712620899595537.jpg\u001b[0m\n",
      "\u001b[1;32m./gallery-dl/pinterest/ryahmd2001/Cup./pinterest_578712620899594988.jpg\u001b[0m\n",
      "\u001b[1;32m./gallery-dl/pinterest/ryahmd2001/Cup./pinterest_578712620899594682.jpg\u001b[0m\n",
      "\u001b[1;32m./gallery-dl/pinterest/ryahmd2001/Cup./pinterest_578712620899594679.jpg\u001b[0m\n",
      "\u001b[1;32m./gallery-dl/pinterest/ryahmd2001/Cup./pinterest_578712620899553686.jpg\u001b[0m\n",
      "\u001b[1;32m./gallery-dl/pinterest/ryahmd2001/Cup./pinterest_578712620899524666.jpg\u001b[0m\n",
      "\u001b[1;32m./gallery-dl/pinterest/ryahmd2001/Cup./pinterest_578712620899524626.jpg\u001b[0m\n",
      "\u001b[1;32m./gallery-dl/pinterest/ryahmd2001/Cup./pinterest_578712620899509144.jpg\u001b[0m\n",
      "\u001b[1;32m./gallery-dl/pinterest/ryahmd2001/Cup./pinterest_578712620899388171.jpg\u001b[0m\n",
      "\u001b[1;32m./gallery-dl/pinterest/ryahmd2001/Cup./pinterest_578712620899368099.jpg\u001b[0m\n",
      "\u001b[1;32m./gallery-dl/pinterest/ryahmd2001/Cup./pinterest_578712620899330090.jpg\u001b[0m\n",
      "\u001b[1;32m./gallery-dl/pinterest/ryahmd2001/Cup./pinterest_578712620899289676.jpg\u001b[0m\n",
      "\u001b[1;32m./gallery-dl/pinterest/ryahmd2001/Cup./pinterest_578712620899289652.jpg\u001b[0m\n",
      "\u001b[1;32m./gallery-dl/pinterest/ryahmd2001/Cup./pinterest_578712620899289620.jpg\u001b[0m\n",
      "\u001b[1;32m./gallery-dl/pinterest/ryahmd2001/Cup./pinterest_578712620899289606.jpg\u001b[0m\n",
      "\u001b[1;32m./gallery-dl/pinterest/ryahmd2001/Cup./pinterest_578712620899289597.jpg\u001b[0m\n",
      "\u001b[1;32m./gallery-dl/pinterest/ryahmd2001/Cup./pinterest_578712620899289592.jpg\u001b[0m\n",
      "\u001b[1;32m./gallery-dl/pinterest/ryahmd2001/Cup./pinterest_578712620899289582.jpg\u001b[0m\n",
      "\u001b[1;32m./gallery-dl/pinterest/ryahmd2001/Cup./pinterest_578712620899251709.jpg\u001b[0m\n",
      "\u001b[1;32m./gallery-dl/pinterest/ryahmd2001/Cup./pinterest_578712620899180241.jpg\u001b[0m\n",
      "\u001b[1;32m./gallery-dl/pinterest/ryahmd2001/Cup./pinterest_578712620899132837.jpg\u001b[0m\n",
      "\u001b[1;32m./gallery-dl/pinterest/ryahmd2001/Cup./pinterest_578712620899132836.jpg\u001b[0m\n",
      "\u001b[1;32m./gallery-dl/pinterest/ryahmd2001/Cup./pinterest_578712620899132835.jpg\u001b[0m\n",
      "\u001b[1;32m./gallery-dl/pinterest/ryahmd2001/Cup./pinterest_578712620899132834.jpg\u001b[0m\n",
      "\u001b[1;32m./gallery-dl/pinterest/ryahmd2001/Cup./pinterest_578712620899132832.jpg\u001b[0m\n",
      "\u001b[1;32m./gallery-dl/pinterest/ryahmd2001/Cup./pinterest_578712620899132822.jpg\u001b[0m\n",
      "\u001b[1;32m./gallery-dl/pinterest/ryahmd2001/Cup./pinterest_578712620899132741.jpg\u001b[0m\n",
      "\u001b[1;32m./gallery-dl/pinterest/ryahmd2001/Cup./pinterest_578712620899132662.jpg\u001b[0m\n",
      "\u001b[1;32m./gallery-dl/pinterest/ryahmd2001/Cup./pinterest_578712620899132161.jpg\u001b[0m\n",
      "\u001b[1;32m./gallery-dl/pinterest/ryahmd2001/Cup./pinterest_578712620899132156.jpg\u001b[0m\n",
      "\u001b[1;32m./gallery-dl/pinterest/ryahmd2001/Cup./pinterest_578712620899132150.jpg\u001b[0m\n",
      "\u001b[1;32m./gallery-dl/pinterest/ryahmd2001/Cup./pinterest_578712620899132148.jpg\u001b[0m\n",
      "\u001b[1;32m./gallery-dl/pinterest/ryahmd2001/Cup./pinterest_578712620899132146.jpg\u001b[0m\n",
      "\u001b[1;32m./gallery-dl/pinterest/ryahmd2001/Cup./pinterest_578712620899132143.jpg\u001b[0m\n",
      "\u001b[1;32m./gallery-dl/pinterest/ryahmd2001/Cup./pinterest_578712620899132140.jpg\u001b[0m\n",
      "\u001b[1;32m./gallery-dl/pinterest/ryahmd2001/Cup./pinterest_578712620899132135.jpg\u001b[0m\n",
      "\u001b[1;32m./gallery-dl/pinterest/ryahmd2001/Cup./pinterest_578712620899131125.jpg\u001b[0m\n",
      "\u001b[1;32m./gallery-dl/pinterest/ryahmd2001/Cup./pinterest_578712620899131063.jpg\u001b[0m\n",
      "\u001b[1;32m./gallery-dl/pinterest/ryahmd2001/Cup./pinterest_578712620899126543.jpg\u001b[0m\n",
      "\u001b[1;32m./gallery-dl/pinterest/ryahmd2001/Cup./pinterest_578712620899126536.jpg\u001b[0m\n",
      "\u001b[1;32m./gallery-dl/pinterest/ryahmd2001/Cup./pinterest_578712620899126535.jpg\u001b[0m\n",
      "\u001b[1;32m./gallery-dl/pinterest/ryahmd2001/Cup./pinterest_578712620899126534.jpg\u001b[0m\n",
      "\u001b[1;32m./gallery-dl/pinterest/ryahmd2001/Cup./pinterest_578712620899126533.jpg\u001b[0m\n",
      "\u001b[1;32m./gallery-dl/pinterest/ryahmd2001/Cup./pinterest_578712620899126532.jpg\u001b[0m\n",
      "\u001b[1;32m./gallery-dl/pinterest/ryahmd2001/Cup./pinterest_578712620899126530.jpg\u001b[0m\n",
      "\u001b[1;32m./gallery-dl/pinterest/ryahmd2001/Cup./pinterest_578712620899126528.jpg\u001b[0m\n",
      "\u001b[1;32m./gallery-dl/pinterest/ryahmd2001/Cup./pinterest_578712620899126526.jpg\u001b[0m\n",
      "\u001b[1;32m./gallery-dl/pinterest/ryahmd2001/Cup./pinterest_578712620899126499.jpg\u001b[0m\n",
      "\u001b[1;32m./gallery-dl/pinterest/ryahmd2001/Cup./pinterest_578712620899126497.jpg\u001b[0m\n",
      "\u001b[1;32m./gallery-dl/pinterest/ryahmd2001/Cup./pinterest_578712620899126494.jpg\u001b[0m\n",
      "\u001b[1;32m./gallery-dl/pinterest/ryahmd2001/Cup./pinterest_578712620899126493.jpg\u001b[0m\n",
      "\u001b[1;32m./gallery-dl/pinterest/ryahmd2001/Cup./pinterest_578712620899126491.jpg\u001b[0m\n",
      "\u001b[1;32m./gallery-dl/pinterest/ryahmd2001/Cup./pinterest_578712620899126486.jpg\u001b[0m\n",
      "\u001b[1;32m./gallery-dl/pinterest/ryahmd2001/Cup./pinterest_578712620899126484.jpg\u001b[0m\n",
      "\u001b[1;32m./gallery-dl/pinterest/ryahmd2001/Cup./pinterest_578712620899126481.jpg\u001b[0m\n",
      "\u001b[1;32m./gallery-dl/pinterest/ryahmd2001/Cup./pinterest_578712620899126461.jpg\u001b[0m\n",
      "\u001b[1;32m./gallery-dl/pinterest/ryahmd2001/Cup./pinterest_578712620899126459.jpg\u001b[0m\n",
      "\u001b[1;32m./gallery-dl/pinterest/ryahmd2001/Cup./pinterest_578712620899126454.jpg\u001b[0m\n",
      "\u001b[1;32m./gallery-dl/pinterest/ryahmd2001/Cup./pinterest_578712620899126444.jpg\u001b[0m\n",
      "\u001b[1;32m./gallery-dl/pinterest/ryahmd2001/Cup./pinterest_578712620899126438.jpg\u001b[0m\n",
      "\u001b[1;32m./gallery-dl/pinterest/ryahmd2001/Cup./pinterest_578712620899126436.jpg\u001b[0m\n",
      "\u001b[1;32m./gallery-dl/pinterest/ryahmd2001/Cup./pinterest_578712620899126432.jpg\u001b[0m\n",
      "\u001b[1;32m./gallery-dl/pinterest/ryahmd2001/Cup./pinterest_578712620899126429.jpg\u001b[0m\n",
      "\u001b[1;32m./gallery-dl/pinterest/ryahmd2001/Cup./pinterest_578712620899126428.jpg\u001b[0m\n",
      "\u001b[1;32m./gallery-dl/pinterest/ryahmd2001/Cup./pinterest_578712620899126427.jpg\u001b[0m\n",
      "\u001b[1;32m./gallery-dl/pinterest/ryahmd2001/Cup./pinterest_578712620899126426.jpg\u001b[0m\n",
      "\u001b[1;32m./gallery-dl/pinterest/ryahmd2001/Cup./pinterest_578712620899126425.jpg\u001b[0m\n",
      "\u001b[1;32m./gallery-dl/pinterest/ryahmd2001/Cup./pinterest_578712620899126424.jpg\u001b[0m\n"
     ]
    }
   ],
   "source": [
    "# make sure to replace the URL to the board you found!\n",
    "\n",
    "!gallery-dl https://www.pinterest.com/ryahmd2001/cup/ --filter \"extension in ('jpg', 'png', 'gif')\""
   ]
  },
  {
   "cell_type": "markdown",
   "id": "b11a5bfa-0acf-407d-b6ee-0676103dd29b",
   "metadata": {
    "tags": []
   },
   "source": [
    "### Step 3: Resize downloaded images and save them into the respective class folder \n",
    "\n",
    "After downloading, you will see a folder called `gallery-dl` which contains the subfolder `gallery-dl/pinterest/user-id/board name`. Inside you'll find the images you have just downloaded (you will need to change **user-id** and **board-id** to whatever you have downloaded).\n",
    "\n",
    "We're going to put these images into a subfolder in your dataset folder, the name of this subfolders is going to be the name of this class (e.g. put all images of cat into a folder named 'cat')\n",
    "\n",
    "Some images may be too large in its resolution, we can scale them down at this stage to speed up the training.\n",
    "\n",
    "The following code will check images we downloaded, resize them to a reasonable size, and save them into the dataset folder we created.\n",
    "\n",
    "Make sure to **edit the following code with the correct path to your image folder**:"
   ]
  },
  {
   "cell_type": "code",
   "execution_count": 29,
   "id": "992e7749-515f-411a-9d3e-2f350ae797c5",
   "metadata": {},
   "outputs": [],
   "source": [
    "# change this to the correct path to the folder of images you downloaded\n",
    "source_folder = f\"/Users/wh/Documents/msc/coding/ml/week-3/gallery-dl/pinterest/ryahmd2001/Cup.\"\n",
    "\n",
    "# change this to a name of this category, it is up to you\n",
    "# this is going to be the name of the subfolder\n",
    "class_name = 'cup' \n",
    "\n",
    "# we want to crop the images to this resolution\n",
    "target_resolution = 128"
   ]
  },
  {
   "cell_type": "code",
   "execution_count": null,
   "id": "c9014bac",
   "metadata": {},
   "outputs": [],
   "source": []
  },
  {
   "cell_type": "code",
   "execution_count": 30,
   "id": "d8830743-8496-404e-a0dc-e77eeaf0175d",
   "metadata": {},
   "outputs": [
    {
     "name": "stdout",
     "output_type": "stream",
     "text": [
      "./data/my_dataset/cup created\n",
      "source folder: /Users/wh/Documents/msc/coding/ml/week-3/gallery-dl/pinterest/ryahmd2001/Cup.\n",
      "target folder: ./data/my_dataset/cup\n",
      "0 files in the target_folder\n",
      "processing the first 100 images...\n",
      "processing the first 200 images...\n",
      "saved 154 images into ./data/my_dataset/cup\n"
     ]
    }
   ],
   "source": [
    "target_folder = os.path.join(my_dataset_path, class_name)\n",
    "\n",
    "# create a class folder if it doesnt exist\n",
    "try:\n",
    "    os.mkdir(target_folder)\n",
    "    print(f'{target_folder} created')\n",
    "except FileExistsError:\n",
    "    print(f'{target_folder} already existed')\n",
    "     \n",
    "print(f'source folder: {source_folder}')\n",
    "print(f'target folder: {target_folder}')\n",
    "\n",
    "count = len(os.listdir(target_folder))\n",
    "print(f'{count} files in the target_folder')\n",
    "valid_file_type = [\".jpg\", \".gif\", \".png\"]\n",
    "\n",
    "for i, f in enumerate(os.listdir(source_folder)):\n",
    "    \n",
    "    # check the file extension\n",
    "    ext = os.path.splitext(f)[1]\n",
    "    if ext.lower() not in valid_file_type:\n",
    "        continue\n",
    "    \n",
    "    # load and resize an image from the source folder\n",
    "    img = Image.open(os.path.join(source_folder,f)).convert('RGB')\n",
    "    img = resize(img, target_resolution)\n",
    "    \n",
    "    # save the resized image into target folder\n",
    "    img.save(f'{target_folder}/{count:05}.jpg')\n",
    "    \n",
    "    if count % 100 == 0:\n",
    "        print(f'processing the first {count+100} images...')\n",
    "        \n",
    "    count += 1  \n",
    "    \n",
    "print(f'saved {count} images into {target_folder}')"
   ]
  },
  {
   "cell_type": "markdown",
   "id": "27db0f6d-e22e-49d4-a668-eb025827e854",
   "metadata": {},
   "source": [
    "#### Step 4: Repeat\n",
    "\n",
    "Repeat steps 2 & 3 until you have **at least two categoies**. You may need to download more than 1 board for each category to get enough number of images. A common rule of thumb is that you need at least a few hundreds of images per category to train an effective classifier. \n",
    "\n",
    "**Don't forget to look at the data before training!** Make sure that the dataset you have collected contains the thing that you actually want to be there. It is very easy for junk or data samples that aren't actually of the class you want to be in there. You may have to do some manual data cleaning to remove unwanted samples if you are serious about training an effective image classifier. \n",
    "\n",
    "After completion you can go ahead and delete the folder `gallery-dl`.\n"
   ]
  },
  {
   "cell_type": "code",
   "execution_count": null,
   "id": "231ba146-b3d7-4a02-b9c5-db1341db8499",
   "metadata": {},
   "outputs": [],
   "source": []
  }
 ],
 "metadata": {
  "kernelspec": {
   "display_name": "coding3",
   "language": "python",
   "name": "python3"
  },
  "language_info": {
   "codemirror_mode": {
    "name": "ipython",
    "version": 3
   },
   "file_extension": ".py",
   "mimetype": "text/x-python",
   "name": "python",
   "nbconvert_exporter": "python",
   "pygments_lexer": "ipython3",
   "version": "3.12.9"
  }
 },
 "nbformat": 4,
 "nbformat_minor": 5
}
